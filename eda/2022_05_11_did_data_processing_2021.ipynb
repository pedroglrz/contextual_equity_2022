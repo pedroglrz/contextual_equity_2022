{
  "cells": [
    {
      "cell_type": "markdown",
      "metadata": {
        "id": "view-in-github",
        "colab_type": "text"
      },
      "source": [
        "<a href=\"https://colab.research.google.com/github/ARISE-NYU/diggs/blob/pedro-dev/data/eda_notebooks/2022_05_11_did_data_processing_2021.ipynb\" target=\"_parent\"><img src=\"https://colab.research.google.com/assets/colab-badge.svg\" alt=\"Open In Colab\"/></a>"
      ]
    },
    {
      "cell_type": "markdown",
      "metadata": {
        "id": "EhY2xQzksM3V"
      },
      "source": [
        "# 0. Import Data/Housekeeping"
      ]
    },
    {
      "cell_type": "code",
      "execution_count": 1,
      "metadata": {
        "id": "d9_qpv9psQAz",
        "colab": {
          "base_uri": "https://localhost:8080/"
        },
        "outputId": "70a9cb39-3537-4c12-8107-29dcde7ddca5"
      },
      "outputs": [
        {
          "output_type": "stream",
          "name": "stdout",
          "text": [
            "Drive already mounted at /content/gdrive; to attempt to forcibly remount, call drive.mount(\"/content/gdrive\", force_remount=True).\n"
          ]
        }
      ],
      "source": [
        "from google.colab import drive\n",
        "drive.mount('/content/gdrive')"
      ]
    },
    {
      "cell_type": "code",
      "execution_count": 2,
      "metadata": {
        "id": "63nSGBEEsM3Y"
      },
      "outputs": [],
      "source": [
        "import os\n",
        "import pandas as pd\n",
        "import numpy as np\n",
        "import matplotlib.pyplot as plt\n",
        "import math\n",
        "import re\n",
        "\n",
        "import pprint"
      ]
    },
    {
      "cell_type": "markdown",
      "metadata": {
        "id": "JeAd_fVEsM3Z"
      },
      "source": [
        "# 1. Import Data\n",
        "## 1.1 Read Data"
      ]
    },
    {
      "cell_type": "code",
      "execution_count": 3,
      "metadata": {
        "id": "aCUNOpBtsM3Z"
      },
      "outputs": [],
      "source": [
        "# os.makedirs()\n",
        "\n",
        "project_directory_path = \"/content/gdrive/MyDrive/2022-spring_did_research/\"\n",
        "_data_path = os.path.join(project_directory_path, \"data/did_Data_Template_2021.csv\")\n",
        "school_codes_path = os.path.join(project_directory_path, \"data/ny_school_codes.csv\")"
      ]
    },
    {
      "cell_type": "code",
      "execution_count": 4,
      "metadata": {
        "id": "TarVy8dCsM3a"
      },
      "outputs": [],
      "source": [
        "\n",
        "#aride df\n",
        "_df = pd.read_csv(_data_path)\n",
        "_df_working = _df.copy()\n",
        "\n",
        "#school codes path\n",
        "school_codes_df = pd.read_csv(school_codes_path)"
      ]
    },
    {
      "cell_type": "code",
      "execution_count": 5,
      "metadata": {
        "id": "zUzGT9iusM3a",
        "colab": {
          "base_uri": "https://localhost:8080/"
        },
        "outputId": "836fdb0c-232e-40d2-c21c-55306571e683"
      },
      "outputs": [
        {
          "output_type": "execute_result",
          "data": {
            "text/plain": [
              "array([2021])"
            ]
          },
          "metadata": {},
          "execution_count": 5
        }
      ],
      "source": [
        "did_df = pd.read_csv(did_data_path)\n",
        "did_df['Year'] = 2021\n",
        "did_df['Year'].unique()"
      ]
    },
    {
      "cell_type": "markdown",
      "metadata": {
        "id": "VslBafS_OnFK"
      },
      "source": [
        "## 1.2 Filter to Informative Columns\n",
        "### 1.2.a Raw Columns"
      ]
    },
    {
      "cell_type": "code",
      "execution_count": 6,
      "metadata": {
        "colab": {
          "base_uri": "https://localhost:8080/"
        },
        "id": "9g8o6Z-7ZFIj",
        "outputId": "0d11cc13-57b8-4494-9c20-11b4b51b34c9"
      },
      "outputs": [
        {
          "output_type": "stream",
          "name": "stdout",
          "text": [
            "<class 'pandas.core.frame.DataFrame'>\n",
            "RangeIndex: 1330 entries, 0 to 1329\n",
            "Data columns (total 63 columns):\n",
            " #   Column                                                                                                                                                                                                                            Non-Null Count  Dtype  \n",
            "---  ------                                                                                                                                                                                                                            --------------  -----  \n",
            " 0   Unique Identifier                                                                                                                                                                                                                 1330 non-null   int64  \n",
            " 1   Year                                                                                                                                                                                                                              1330 non-null   int64  \n",
            " 2   Non-Degree Application SIS Decision                                                                                                                                                                                               768 non-null    object \n",
            " 3   App Started Date                                                                                                                                                                                                                  1329 non-null   object \n",
            " 4   App Submitted Date                                                                                                                                                                                                                768 non-null    object \n",
            " 5   Race                                                                                                                                                                                                                              992 non-null    object \n",
            " 6   Hispanic                                                                                                                                                                                                                          893 non-null    object \n",
            " 7   Non-Degree Application Cultural Identity                                                                                                                                                                                          823 non-null    object \n",
            " 8   Non-Degree Application Cultural Identity Other                                                                                                                                                                                    43 non-null     object \n",
            " 9   Sex                                                                                                                                                                                                                               1170 non-null   object \n",
            " 10  Gender Identity                                                                                                                                                                                                                   1190 non-null   object \n",
            " 11  Gender Identity Description                                                                                                                                                                                                       5 non-null      object \n",
            " 12  Non-Degree Application Family Income Range                                                                                                                                                                                        879 non-null    object \n",
            " 13  Non-Degree Application Parent College Education                                                                                                                                                                                   886 non-null    object \n",
            " 14  #Parents/Caregivers in Household                                                                                                                                                                                                  0 non-null      float64\n",
            " 15  Family Attended NYU                                                                                                                                                                                                               0 non-null      float64\n",
            " 16  Family Employed at NYU                                                                                                                                                                                                            0 non-null      float64\n",
            " 17  Permanent City                                                                                                                                                                                                                    1174 non-null   object \n",
            " 18  Permanent County                                                                                                                                                                                                                  1169 non-null   object \n",
            " 19  Permanent Region                                                                                                                                                                                                                  1171 non-null   object \n",
            " 20  Permanent Postal                                                                                                                                                                                                                  1172 non-null   object \n",
            " 21  Permanent Country                                                                                                                                                                                                                 1174 non-null   object \n",
            " 22  Emergency Contact Type 1                                                                                                                                                                                                          977 non-null    object \n",
            " 23  Emergency Contact Type 2                                                                                                                                                                                                          296 non-null    object \n",
            " 24  Non-Degree Application Current Grade Level                                                                                                                                                                                        1328 non-null   float64\n",
            " 25  School 1 Institution Name                                                                                                                                                                                                         1176 non-null   object \n",
            " 26  School 1 Code - CEEB or Key                                                                                                                                                                                                       1137 non-null   object \n",
            " 27  School 1 GPA                                                                                                                                                                                                                      1052 non-null   float64\n",
            " 28  Non-Degree Application GPA in Specified Subjects                                                                                                                                                                                  845 non-null    object \n",
            " 29  Area of Interest #1                                                                                                                                                                                                               875 non-null    object \n",
            " 30  Area of Interest #2                                                                                                                                                                                                               873 non-null    object \n",
            " 31  Area of Interest #3                                                                                                                                                                                                               871 non-null    object \n",
            " 32  NYU Program or Course Participation Selection                                                                                                                                                                                     87 non-null     object \n",
            " 33  Non-Degree Application Prior NYU Application                                                                                                                                                                                      886 non-null    float64\n",
            " 34  Non-NYU Stem Participation                                                                                                                                                                                                        376 non-null    object \n",
            " 35  All Missing Checklist Items (comma)                                                                                                                                                                                               634 non-null    object \n",
            " 36  Non-Degree Application Essay Resp 1 - Why are you interested in participating in this program? What parts of the program are you most interested in? (250 characters or less)                                                     0 non-null      float64\n",
            " 37  Non-Degree Application Essay Resp 2 - Describe the activities that you participate in -- clubs, after school programs, independent research, hobbies, etc -- to further your interests in STEM. (500 characters or less)          0 non-null      float64\n",
            " 38  Non-Degree Application Essay Resp 3 - What areas of STEM do you struggle with or are unfamiliar with and why? 250 characters or less)                                                                                             0 non-null      float64\n",
            " 39  Non-Degree Application Essay Resp 4 - How can this program help you? (250 characters or less)                                                                                                                                     0 non-null      float64\n",
            " 40  Non-Degree Application Essay Resp 5 - Why did you choose this program over other programs (250 characters or less)                                                                                                                0 non-null      float64\n",
            " 41  Non-Degree Application Essay Resp 6 - The Center for K12 is intended to lift up and give opportunities to communities underrepresented in STEM. How do you think you contribute to your STEM community? (250 characters or less)  0 non-null      float64\n",
            " 42  Recommender Ratings - Intellectual and analytic ability                                                                                                                                                                           0 non-null      float64\n",
            " 43  Recommender Ratings - Capability to develop and follow own ideas                                                                                                                                                                  0 non-null      float64\n",
            " 44  Recommender Ratings - Ability to grasp scientific and mathematical concepts                                                                                                                                                       0 non-null      float64\n",
            " 45  Recommender Ratings - Passion and iniative                                                                                                                                                                                        0 non-null      float64\n",
            " 46  Recommender Ratings - Ability to collaborate and cooperate                                                                                                                                                                        0 non-null      float64\n",
            " 47  Recommender Ratings - Reliability                                                                                                                                                                                                 0 non-null      float64\n",
            " 48  Recommender Ratings - Applicant proficiency in written and verbal communication skills                                                                                                                                            0 non-null      float64\n",
            " 49  Recommender Letter                                                                                                                                                                                                                0 non-null      float64\n",
            " 50  Labs Toured                                                                                                                                                                                                                       0 non-null      float64\n",
            " 51  Student Ranking                                                                                                                                                                                                                   0 non-null      float64\n",
            " 52  One on One Interview Ranking - Student                                                                                                                                                                                            0 non-null      float64\n",
            " 53  One on One Interview Ranking - Lab Ranking                                                                                                                                                                                        0 non-null      float64\n",
            " 54  Matched Lab                                                                                                                                                                                                                       0 non-null      float64\n",
            " 55  Degree of Match                                                                                                                                                                                                                   0 non-null      float64\n",
            " 56  YOA                                                                                                                                                                                                                               0 non-null      float64\n",
            " 57  Tech Needs Survey - Can you make/find a quiet space in your home where you can work uninterrupted for several hours of the day online?                                                                                            0 non-null      float64\n",
            " 58  Tech Needs Survey - What type of technology do you have for your exclusive use (personal device you do not have to share) at home? (click all that apply)                                                                         0 non-null      float64\n",
            " 59  Tech Needs Survey - Does your device allow you to download files or programs that require a lot of memory to open and use                                                                                                         0 non-null      float64\n",
            " 60  Tech Needs Survey - How do you access internet at home? (Check all that apply)                                                                                                                                                    0 non-null      float64\n",
            " 61  Tech Needs Survey - How would you describe your internet quality?                                                                                                                                                                 0 non-null      float64\n",
            " 62  Attendance                                                                                                                                                                                                                        0 non-null      float64\n",
            "dtypes: float64(33), int64(2), object(28)\n",
            "memory usage: 654.7+ KB\n"
          ]
        }
      ],
      "source": [
        "_df_working = _df.copy()\n",
        "_df_working.info(verbose = True, show_counts=True)"
      ]
    },
    {
      "cell_type": "markdown",
      "source": [
        "### 1.2.b Filter Raw Columns"
      ],
      "metadata": {
        "id": "eXKiD5aHFEhK"
      }
    },
    {
      "cell_type": "code",
      "execution_count": 7,
      "metadata": {
        "colab": {
          "base_uri": "https://localhost:8080/"
        },
        "id": "SqWmWkkAsM3b",
        "outputId": "94426da0-defc-46d8-a04b-2262884684be"
      },
      "outputs": [
        {
          "output_type": "stream",
          "name": "stdout",
          "text": [
            "<class 'pandas.core.frame.DataFrame'>\n",
            "RangeIndex: 1330 entries, 0 to 1329\n",
            "Data columns (total 32 columns):\n",
            " #   Column                                            Non-Null Count  Dtype   \n",
            "---  ------                                            --------------  -----   \n",
            " 0   Unique Identifier                                 1330 non-null   int64   \n",
            " 1   Non-Degree Application SIS Decision               768 non-null    object  \n",
            " 2   App Started Date                                  1329 non-null   object  \n",
            " 3   App Submitted Date                                768 non-null    object  \n",
            " 4   Race                                              992 non-null    object  \n",
            " 5   Hispanic                                          893 non-null    object  \n",
            " 6   Non-Degree Application Cultural Identity          823 non-null    object  \n",
            " 7   Non-Degree Application Cultural Identity Other    43 non-null     object  \n",
            " 8   Sex                                               1170 non-null   object  \n",
            " 9   Gender Identity                                   1190 non-null   object  \n",
            " 10  Gender Identity Description                       5 non-null      object  \n",
            " 11  Non-Degree Application Family Income Range        879 non-null    object  \n",
            " 12  Non-Degree Application Parent College Education   886 non-null    object  \n",
            " 13  Permanent City                                    1174 non-null   object  \n",
            " 14  Permanent County                                  1169 non-null   object  \n",
            " 15  Permanent Region                                  1171 non-null   object  \n",
            " 16  Permanent Postal                                  1172 non-null   object  \n",
            " 17  Permanent Country                                 1174 non-null   object  \n",
            " 18  Emergency Contact Type 1                          977 non-null    object  \n",
            " 19  Emergency Contact Type 2                          296 non-null    object  \n",
            " 20  Non-Degree Application Current Grade Level        1328 non-null   category\n",
            " 21  School 1 Institution Name                         1176 non-null   object  \n",
            " 22  School 1 Code - CEEB or Key                       1137 non-null   object  \n",
            " 23  School 1 GPA                                      1052 non-null   float64 \n",
            " 24  Non-Degree Application GPA in Specified Subjects  845 non-null    object  \n",
            " 25  Area of Interest #1                               875 non-null    object  \n",
            " 26  Area of Interest #2                               873 non-null    object  \n",
            " 27  Area of Interest #3                               871 non-null    object  \n",
            " 28  NYU Program or Course Participation Selection     87 non-null     object  \n",
            " 29  Non-Degree Application Prior NYU Application      886 non-null    category\n",
            " 30  Non-NYU Stem Participation                        376 non-null    object  \n",
            " 31  All Missing Checklist Items (comma)               634 non-null    object  \n",
            "dtypes: category(2), float64(1), int64(1), object(28)\n",
            "memory usage: 314.7+ KB\n"
          ]
        },
        {
          "output_type": "stream",
          "name": "stderr",
          "text": [
            "/usr/local/lib/python3.7/dist-packages/ipykernel_launcher.py:9: SettingWithCopyWarning: \n",
            "A value is trying to be set on a copy of a slice from a DataFrame.\n",
            "Try using .loc[row_indexer,col_indexer] = value instead\n",
            "\n",
            "See the caveats in the documentation: https://pandas.pydata.org/pandas-docs/stable/user_guide/indexing.html#returning-a-view-versus-a-copy\n",
            "  if __name__ == '__main__':\n",
            "/usr/local/lib/python3.7/dist-packages/ipykernel_launcher.py:10: SettingWithCopyWarning: \n",
            "A value is trying to be set on a copy of a slice from a DataFrame.\n",
            "Try using .loc[row_indexer,col_indexer] = value instead\n",
            "\n",
            "See the caveats in the documentation: https://pandas.pydata.org/pandas-docs/stable/user_guide/indexing.html#returning-a-view-versus-a-copy\n",
            "  # Remove the CWD from sys.path while we load stuff.\n"
          ]
        }
      ],
      "source": [
        "#columns with more than one value\n",
        "\n",
        "informative_columns = []\n",
        "for column in _df_working.columns:\n",
        "    if (len(_df_working[column].unique()) >1): #& (len(_df_working[column].unique()) <25):\n",
        "        informative_columns.append(column)\n",
        "\n",
        "_df_informative = _df_working[informative_columns]\n",
        "_df_informative['Non-Degree Application Current Grade Level'] = _df_informative['Non-Degree Application Current Grade Level'].astype('category')        \n",
        "_df_informative['Non-Degree Application Prior NYU Application'] = _df_informative['Non-Degree Application Prior NYU Application'].astype('category')\n",
        "\n",
        "_df_informative\n",
        "_df_informative.info()"
      ]
    },
    {
      "cell_type": "markdown",
      "metadata": {
        "id": "mwNoKK_rsM3c"
      },
      "source": [
        "# 2. Feature Preprocessing\n"
      ]
    },
    {
      "cell_type": "markdown",
      "metadata": {
        "id": "3uzAXno8j_fx"
      },
      "source": [
        "## 2.1 'Non-Degree Application SIS Decision'\n",
        "\n",
        "- Map 'nan' to \"Incomplete\"\n",
        "- Create new \"decision\" column"
      ]
    },
    {
      "cell_type": "code",
      "execution_count": 8,
      "metadata": {
        "id": "B5trp4t0-BWS"
      },
      "outputs": [],
      "source": [
        "def standardize_row(row):\n",
        "  if isinstance(row,str):\n",
        "    row = row.replace(' ','_').lower()\n",
        "    row = re.sub('[^A-Za-z0-9_]+', '', row)\n",
        "    return row\n",
        "  else:\n",
        "    return row"
      ]
    },
    {
      "cell_type": "code",
      "execution_count": 9,
      "metadata": {
        "id": "8Qo_tXrPgERR"
      },
      "outputs": [],
      "source": [
        "_df_informative_working = _df_informative.copy()\n",
        "\n",
        "\n",
        "_df_informative_working['std_decision'] = _df_informative_working['Non-Degree Application SIS Decision']\n",
        "_df_informative_working['std_decision'] = _df_informative_working['std_decision'].fillna('no_decision')\n",
        "_df_informative_working['std_decision'] = _df_informative_working['std_decision'].apply(lambda row: standardize_row(row))\n",
        "\n",
        "_df_informative = _df_informative_working.copy()"
      ]
    },
    {
      "cell_type": "code",
      "execution_count": 10,
      "metadata": {
        "colab": {
          "base_uri": "https://localhost:8080/"
        },
        "id": "g53jsBsmsjhd",
        "outputId": "317273ed-57fd-440d-d6f4-93007ae3ced7"
      },
      "outputs": [
        {
          "output_type": "execute_result",
          "data": {
            "text/plain": [
              "deny                        651\n",
              "no_decision                 562\n",
              "matriculated                 63\n",
              "withdrawn                    53\n",
              "withdrawn_after_decision      1\n",
              "Name: std_decision, dtype: int64"
            ]
          },
          "metadata": {},
          "execution_count": 10
        }
      ],
      "source": [
        "_df_informative_working['std_decision'].value_counts()"
      ]
    },
    {
      "cell_type": "code",
      "execution_count": 11,
      "metadata": {
        "id": "LYMekurXmU2m"
      },
      "outputs": [],
      "source": [
        "#plot pie\n",
        "feature = 'std_decision'\n",
        "plt.pie(_df_informative[feature].value_counts(dropna=False), labels = _df_informative[feature].value_counts(dropna=False).index)\n",
        "plt.title(feature)\n",
        "plt.close()#plt.close() "
      ]
    },
    {
      "cell_type": "markdown",
      "metadata": {
        "id": "Sw5qGWgfiiuQ"
      },
      "source": [
        "## 2.2 'App Started Date'/'App Submitted Date'\n",
        "\n",
        "- Change To Date-Time In Place"
      ]
    },
    {
      "cell_type": "code",
      "execution_count": 12,
      "metadata": {
        "id": "stbmYyqAc7VO"
      },
      "outputs": [],
      "source": [
        "# _df_informative['App Started Date'].info()#.value_counts(dropna=False)\n",
        "_df_informative_working = _df_informative.copy()\n",
        "_df_informative_working['std_app_start_date'] = _df_informative_working['App Started Date'].astype('datetime64[ns]')\n",
        "_df_informative_working['std_app_submitted_date'] = _df_informative_working['App Submitted Date'].astype('datetime64[ns]')"
      ]
    },
    {
      "cell_type": "code",
      "source": [
        "def calc_days_before_deadline(deadline, date):\n",
        "  try:\n",
        "    days_before = -(date - deadline).days\n",
        "  except:\n",
        "      days_before = float('nan')\n",
        "  return days_before\n",
        "\n",
        "dead_line = pd.to_datetime('2021/03/01',format='%Y/%m/%d')\n",
        "\n",
        "_df_informative_working['std_app_start_days_before_deadline'] = _df_informative_working['std_app_start_date']\n",
        "_df_informative_working['std_app_submitted_days_before_deadline'] = _df_informative_working['std_app_submitted_date']\n",
        "\n",
        "_df_informative_working['std_app_start_days_before_deadline'] = _df_informative_working['std_app_start_days_before_deadline'].apply(lambda row: calc_days_before_deadline(dead_line,row))\n",
        "_df_informative_working['std_app_submitted_days_before_deadline'] = _df_informative_working['std_app_submitted_days_before_deadline'].apply(lambda row: calc_days_before_deadline(dead_line,row))\n",
        "\n",
        "_df_informative_working['oh_app_start_days_before_deadline_nan'] = _df_informative_working['std_app_start_days_before_deadline'].isnull()*1\n",
        "_df_informative_working['oh_app_submitted_days_before_deadline_nan'] = _df_informative_working['std_app_submitted_days_before_deadline'].isnull()*1\n",
        "\n",
        "_df_informative_working['std_imputed_app_start_days_before_deadline'] = _df_informative_working['std_app_start_days_before_deadline'].fillna(value=_df_informative_working.std_app_start_days_before_deadline.mean(), inplace=False)\n",
        "_df_informative_working['std_imputed_app_submitted_days_before_deadline'] = _df_informative_working['std_app_submitted_days_before_deadline'].fillna(value=_df_informative_working.std_app_submitted_days_before_deadline.mean(), inplace=False)\n",
        "\n",
        "_df_informative = _df_informative_working.copy()"
      ],
      "metadata": {
        "id": "JYgNlpkSbUjH"
      },
      "execution_count": 13,
      "outputs": []
    },
    {
      "cell_type": "code",
      "execution_count": 14,
      "metadata": {
        "id": "2E87iqrRkWvG"
      },
      "outputs": [],
      "source": [
        "#plot pie\n",
        "feature = 'std_app_start_days_before_deadline'\n",
        "plt.pie(_df_informative[feature].value_counts(dropna=False), labels = _df_informative[feature].value_counts(dropna=False).index)\n",
        "plt.title(feature)\n",
        "plt.close()#plt.close() \n",
        "plt.hist(_df_informative[feature])#.value_counts(dropna=False).sort_index().index.astype(str),_df_informative[feature].value_counts(dropna=False).sort_index())\n",
        "plt.title(feature)\n",
        "plt.close()#plt.close() "
      ]
    },
    {
      "cell_type": "code",
      "execution_count": 15,
      "metadata": {
        "id": "b_oVc3Rqkf0X"
      },
      "outputs": [],
      "source": [
        "#plot pie\n",
        "feature = 'std_app_submitted_days_before_deadline'\n",
        "plt.pie(_df_informative[feature].value_counts(dropna=False), labels = _df_informative[feature].value_counts(dropna=False).index)\n",
        "plt.title(feature)\n",
        "plt.close()#plt.close() \n",
        "\n",
        "plt.hist(_df_informative[feature])#.value_counts(dropna=False).sort_index().index.astype(str),_df_informative[feature].value_counts(dropna=False).sort_index())\n",
        "plt.title(feature)\n",
        "plt.close()#plt.close() "
      ]
    },
    {
      "cell_type": "markdown",
      "metadata": {
        "id": "CNUlh6NTj7p-"
      },
      "source": [
        "## 2.2 'Race'\n",
        "\n",
        "- standardard race in \"race_std\" by choosing 6 racial categories:\n",
        "  - White\n",
        "  - Black or African American\n",
        "  - American Indian or Alsak Native\n",
        "  - Asian\n",
        "  - Two or More, Other\n",
        "  - Nan --> No Response"
      ]
    },
    {
      "cell_type": "code",
      "execution_count": 16,
      "metadata": {
        "id": "DcTp78_Nm-pf"
      },
      "outputs": [],
      "source": [
        "#plot pie\n",
        "feature = 'Race'\n",
        "plt.pie(_df_informative[feature].value_counts(dropna=False), labels = _df_informative[feature].value_counts(dropna=False).index)\n",
        "plt.title(feature)\n",
        "plt.close()#plt.close() "
      ]
    },
    {
      "cell_type": "code",
      "execution_count": 17,
      "metadata": {
        "colab": {
          "base_uri": "https://localhost:8080/"
        },
        "id": "-h6D8RnLM9v5",
        "outputId": "901751b3-b475-4eae-c0e5-f728eac3b66b"
      },
      "outputs": [
        {
          "output_type": "execute_result",
          "data": {
            "text/plain": [
              "Asian                                                                 536\n",
              "NaN                                                                   338\n",
              "White                                                                 209\n",
              "Black or African American                                             169\n",
              "Asian, White                                                           32\n",
              "Black or African American, White                                       12\n",
              "American Indian or Alaska Native                                       12\n",
              "Asian, Black or African American                                        7\n",
              "American Indian or Alaska Native, White                                 4\n",
              "American Indian or Alaska Native, Black or African American             2\n",
              "Asian, Native Hawaiian or Other Pacific                                 2\n",
              "American Indian or Alaska Native, Asian                                 2\n",
              "Native Hawaiian or Other Pacific                                        2\n",
              "Black or African American, Native Hawaiian or Other Pacific             1\n",
              "Asian, Black or African American, White                                 1\n",
              "Black or African American, Native Hawaiian or Other Pacific, White      1\n",
              "Name: Race, dtype: int64"
            ]
          },
          "metadata": {},
          "execution_count": 17
        }
      ],
      "source": [
        "_df_informative[feature].value_counts(dropna=False)"
      ]
    },
    {
      "cell_type": "code",
      "execution_count": 18,
      "metadata": {
        "id": "SsGcCV04lbZQ"
      },
      "outputs": [],
      "source": [
        "_df_informative_working = _df_informative.copy()\n",
        "\n",
        "_df_informative_working['std_race'] = _df_informative_working['Race']\n",
        "\n",
        "\n",
        "_df_informative_working.loc[~_df_informative_working['std_race'].isin([\n",
        "                                    'White',\n",
        "                                    'Black or African American',\n",
        "                                    'American Indian or Alaska Native',\n",
        "                                    'Asian',\n",
        "                                    float('nan')]),'std_race'] = 'Two or More'\n",
        "_df_informative_working['std_race'] = _df_informative_working['std_race'].apply(lambda row: standardize_row(row))\n",
        "_df_informative = _df_informative_working.copy()"
      ]
    },
    {
      "cell_type": "code",
      "execution_count": 19,
      "metadata": {
        "id": "TFgu06sPlrqs"
      },
      "outputs": [],
      "source": [
        "#plot pie\n",
        "feature = 'std_race'\n",
        "plt.pie(_df_informative[feature].value_counts(dropna=False), labels = _df_informative[feature].value_counts(dropna=False).index)\n",
        "plt.title(feature)\n",
        "plt.close()#plt.close() "
      ]
    },
    {
      "cell_type": "markdown",
      "metadata": {
        "id": "I8oim_nNoO28"
      },
      "source": [
        "## 2.3 'Hispanic'\n",
        "\n",
        "- No change"
      ]
    },
    {
      "cell_type": "code",
      "execution_count": 20,
      "metadata": {
        "id": "ENu1wJJ4_wqn"
      },
      "outputs": [],
      "source": [
        "_df_informative_working = _df_informative.copy()\n",
        "\n",
        "_df_informative_working['std_hispanic'] = _df_informative_working['Hispanic']\n",
        "_df_informative_working['std_hispanic'] = _df_informative_working['std_hispanic'].apply(lambda row: standardize_row(row))\n",
        "_df_informative = _df_informative_working.copy()"
      ]
    },
    {
      "cell_type": "code",
      "execution_count": 21,
      "metadata": {
        "id": "1JM6QYT8oKyl"
      },
      "outputs": [],
      "source": [
        "#plot pie\n",
        "feature = 'std_hispanic'\n",
        "plt.pie(_df_informative[feature].value_counts(dropna=False), labels = _df_informative[feature].value_counts(dropna=False).index)\n",
        "plt.title(feature)\n",
        "plt.close()#plt.close() "
      ]
    },
    {
      "cell_type": "markdown",
      "metadata": {
        "id": "arQ5M_tAoehw"
      },
      "source": [
        "## 2.4 'Cultural Identity'\n",
        "- Find all unique \"Cultural Inditiy Categories seperated by commas\n",
        "- One hot encode each catagory in its own unique column\n"
      ]
    },
    {
      "cell_type": "code",
      "execution_count": 22,
      "metadata": {
        "id": "tksRksdDMQI3"
      },
      "outputs": [],
      "source": [
        "#define list of cultural identity catagories\n",
        "_df_informative_working = _df_informative.copy()\n",
        "cultural_id_other_list = list(_df_informative_working['Non-Degree Application Cultural Identity Other'].value_counts(dropna=False).index)\n",
        "cultural_id_list = list(_df_informative_working['Non-Degree Application Cultural Identity'].value_counts(dropna=False).index)\n",
        "cultural_id_list\n",
        "cultural_id_split_list = []\n",
        "for i in cultural_id_list:\n",
        "  if isinstance(i, str):\n",
        "    split = i.split(',')\n",
        "    for category in split:\n",
        "      cultural_id_split_list.append(category.strip())\n",
        "  else:\n",
        "    cultural_id_split_list.append(i)\n",
        "cultural_id_split_list = list(set(cultural_id_split_list))"
      ]
    },
    {
      "cell_type": "code",
      "execution_count": 23,
      "metadata": {
        "colab": {
          "base_uri": "https://localhost:8080/"
        },
        "id": "Suxcw1dMcMAx",
        "outputId": "4e27aa9b-435b-445a-b17e-f85a5be8d5d2"
      },
      "outputs": [
        {
          "output_type": "execute_result",
          "data": {
            "text/plain": [
              "['oh_cultural_id_nan',\n",
              " 'oh_cultural_id_central_american_origin',\n",
              " 'oh_cultural_id_afro-caribbean_origin',\n",
              " 'oh_cultural_id_pacific_island_origin',\n",
              " 'oh_cultural_id_indian_subcontinent_origin',\n",
              " 'oh_cultural_id_prefer_not_to_say',\n",
              " 'oh_cultural_id_middle_eastern_origin',\n",
              " 'oh_cultural_id_hawiian_origin',\n",
              " 'oh_cultural_id_cuban_origin',\n",
              " 'oh_cultural_id_european_origin',\n",
              " 'oh_cultural_id_south_asian',\n",
              " 'oh_cultural_id_african_origin',\n",
              " 'oh_cultural_id_north_american_(native_american)_origin',\n",
              " 'oh_cultural_id_puerto_rican_origin',\n",
              " 'oh_cultural_id_mexican_origin',\n",
              " 'oh_cultural_id_southeast_asian_origin',\n",
              " 'oh_cultural_id_other',\n",
              " 'oh_cultural_id_south_american_origin',\n",
              " 'oh_cultural_id_north_african_origin',\n",
              " 'oh_cultural_id_east_asian_origin']"
            ]
          },
          "metadata": {},
          "execution_count": 23
        }
      ],
      "source": [
        "oh_culture_id_list = []\n",
        "for culture in cultural_id_split_list:\n",
        "  if isinstance(culture, str):\n",
        "    culture = \"oh_cultural_id_\" + culture.lower().replace(' ', '_')\n",
        "  else:\n",
        "    culture = 'oh_cultural_id_nan'\n",
        "  oh_culture_id_list.append(culture)\n",
        "oh_culture_id_list"
      ]
    },
    {
      "cell_type": "code",
      "execution_count": 24,
      "metadata": {
        "id": "0dst1U87NHZv"
      },
      "outputs": [],
      "source": [
        "# definite by row functions\n",
        "def split_cultural_id(string):\n",
        "  split_list = []\n",
        "  if isinstance(string, str):\n",
        "    split = string.split(',')\n",
        "    for category in split:\n",
        "      split_list.append(category.strip())\n",
        "  else:\n",
        "    split_list.append(string)\n",
        "  return split_list\n",
        "\n",
        "def cultural_od_isin(culture, culture_list):\n",
        "  if isinstance(culture_list[0], str):\n",
        "    if culture in (culture_list):\n",
        "      return 1\n",
        "    else:\n",
        "      return 0\n",
        "  else:\n",
        "    return culture_list[0]"
      ]
    },
    {
      "cell_type": "code",
      "execution_count": 25,
      "metadata": {
        "id": "d0PUyK0VCgxG"
      },
      "outputs": [],
      "source": [
        "_df_informative_cultrual_id = _df_informative.copy()\n",
        "_df_informative_cultrual_id['std_cultural_id'] = _df_informative_cultrual_id['Non-Degree Application Cultural Identity'].apply(split_cultural_id)\n",
        "_df_informative_cultrual_id['std_cultural_id']\n",
        "\n",
        "for culture in cultural_id_split_list:\n",
        "  if isinstance(culture, str):\n",
        "    feature = \"oh_cultural_id_\" + culture.lower().replace(' ', '_')\n",
        "  else:\n",
        "    feature = 'oh_cultural_id_nan'\n",
        "  _df_informative_cultrual_id[feature] = _df_informative_cultrual_id['std_cultural_id']\n",
        "  _df_informative_cultrual_id[feature] = _df_informative_cultrual_id[feature].apply(lambda row: cultural_od_isin(culture, row))\n",
        "  if feature != 'oh_cultural_id_nan':\n",
        "    _df_informative_cultrual_id[feature] = _df_informative_cultrual_id[feature].fillna(0)\n",
        "\n",
        "\n",
        "_df_informative_cultrual_id.oh_cultural_id_nan = _df_informative_cultrual_id.oh_cultural_id_nan.fillna(1)\n",
        "_df_informative = _df_informative_cultrual_id.copy()"
      ]
    },
    {
      "cell_type": "code",
      "execution_count": 26,
      "metadata": {
        "id": "QuoesA_inNPO"
      },
      "outputs": [],
      "source": [
        "#plot pie\n",
        "feature = 'Non-Degree Application Cultural Identity'\n",
        "plt.pie(_df_informative[feature].value_counts(dropna=False), labels = _df_informative[feature].value_counts(dropna=False).index)\n",
        "plt.title(feature)\n",
        "plt.close()#plt.close() "
      ]
    },
    {
      "cell_type": "code",
      "execution_count": 27,
      "metadata": {
        "id": "URiLWC1rnN8l"
      },
      "outputs": [],
      "source": [
        "#plot pie\n",
        "for culture in cultural_id_split_list:\n",
        "  if isinstance(culture, str):\n",
        "    culture = \"oh_cultural_id_\" + culture.lower().replace(' ', '_')\n",
        "  else:\n",
        "    culture = 'oh_cultural_id_nan'\n",
        "  feature = culture\n",
        "  plt.pie(_df_informative[feature].value_counts(dropna=False), labels = _df_informative[feature].value_counts(dropna=False).index)\n",
        "  plt.title(feature)\n",
        "  plt.close()#plt.close() "
      ]
    },
    {
      "cell_type": "markdown",
      "metadata": {
        "id": "l7sUOYbnTkVq"
      },
      "source": [
        "## 2.5 'Culural Identity Other'\n",
        "- Going to keep as is for now\n",
        "- Basically Treat it as a Free Response\n",
        "- Clear possible additional catagories are Jewish, Central Asian, and African American"
      ]
    },
    {
      "cell_type": "code",
      "execution_count": 28,
      "metadata": {
        "colab": {
          "base_uri": "https://localhost:8080/"
        },
        "id": "cJ8m1uv4Th-U",
        "outputId": "a87dbf2f-33fb-4c1e-8cd4-48c0c9806e1c"
      },
      "outputs": [
        {
          "output_type": "stream",
          "name": "stdout",
          "text": [
            "Cultural Id Other Catagories\n"
          ]
        },
        {
          "output_type": "execute_result",
          "data": {
            "text/plain": [
              "[nan,\n",
              " 'Russian',\n",
              " 'Asian American',\n",
              " 'Eurasian',\n",
              " 'Jewish',\n",
              " 'South American Origin & Central American Origin',\n",
              " 'Carribean descent',\n",
              " 'Sephardi and Anatolian',\n",
              " 'My family comes from Uzbekistan',\n",
              " '& Dominican',\n",
              " 'Caucasian',\n",
              " 'West Indian',\n",
              " 'Mix of more than one Eastern European',\n",
              " 'African-American',\n",
              " 'Central Asian Origin (Bukharian)',\n",
              " 'Domincan Ecuadorian Origin',\n",
              " 'Central Asian (Uzbek)',\n",
              " 'central asian',\n",
              " 'Irish',\n",
              " 'Uzbek',\n",
              " 'South Asian/Bangladesh',\n",
              " 'East Indian',\n",
              " 'Bolivian Origin',\n",
              " 'French',\n",
              " 'Peruvian Origin',\n",
              " 'Southern African American',\n",
              " 'Central Asian',\n",
              " 'black Hispanic',\n",
              " 'American Indian',\n",
              " 'Eastern European/ Asia (Russian)',\n",
              " 'which is in Central Asia.  Our heritage',\n",
              " 'Korean and America (Britain)',\n",
              " 'Central Asian Origin',\n",
              " 'Haitian',\n",
              " 'Iranian/Turkic',\n",
              " 'our culture and language are very unique and do not fit any category above',\n",
              " 'Chinese-White',\n",
              " 'Bi-racial (White and First Nations)',\n",
              " 'Russian Mongolian',\n",
              " 'African American',\n",
              " 'afro-latina',\n",
              " 'Indo-Caribbean',\n",
              " 'Afghan',\n",
              " 'Northeast Asian']"
            ]
          },
          "metadata": {},
          "execution_count": 28
        }
      ],
      "source": [
        "#define list of cultural identi catagories\n",
        "_df_informative_working = _df_informative.copy()\n",
        "cultural_id_other_list = list(_df_informative_working['Non-Degree Application Cultural Identity Other'].value_counts(dropna=False).index)\n",
        "cultural_id_other_split_list = []\n",
        "for i in cultural_id_other_list:\n",
        "  if isinstance(i, str):\n",
        "    split = i.split(',')\n",
        "    for category in split:\n",
        "      cultural_id_other_split_list.append(category.strip())\n",
        "  else:\n",
        "    cultural_id_other_split_list.append(i)\n",
        "cultural_id_other_split_list = list(set(cultural_id_other_split_list))\n",
        "print('Cultural Id Other Catagories')\n",
        "cultural_id_other_split_list"
      ]
    },
    {
      "cell_type": "markdown",
      "metadata": {
        "id": "0PD8xct0UXZr"
      },
      "source": [
        "# 2.6 Gender Identity\n",
        "\n",
        "* No Change for now"
      ]
    },
    {
      "cell_type": "code",
      "execution_count": 29,
      "metadata": {
        "id": "oxzcSfjSVzG8"
      },
      "outputs": [],
      "source": [
        "feature = 'Sex'\n",
        "plt.pie(_df_informative[feature].value_counts(dropna=False), labels = _df_informative[feature].value_counts(dropna=False).index)\n",
        "plt.title(feature)\n",
        "plt.close()#plt.show() "
      ]
    },
    {
      "cell_type": "code",
      "execution_count": 30,
      "metadata": {
        "id": "WVIsTFCEANt6"
      },
      "outputs": [],
      "source": [
        "_df_informative_working = _df_informative.copy()\n",
        "\n",
        "_df_informative_working['std_sex'] = _df_informative_working['Sex']\n",
        "_df_informative_working['std_sex'] = _df_informative_working['std_sex'].apply(lambda row: standardize_row(row))\n",
        "_df_informative = _df_informative_working.copy()"
      ]
    },
    {
      "cell_type": "code",
      "execution_count": 31,
      "metadata": {
        "id": "g-cIgWzeAbZx"
      },
      "outputs": [],
      "source": [
        "feature = 'std_sex'\n",
        "plt.pie(_df_informative[feature].value_counts(dropna=False), labels = _df_informative[feature].value_counts(dropna=False).index)\n",
        "plt.title(feature)\n",
        "plt.close()#plt.show() "
      ]
    },
    {
      "cell_type": "code",
      "execution_count": 32,
      "metadata": {
        "id": "1hjGiFgdVhlM"
      },
      "outputs": [],
      "source": [
        "feature = 'Gender Identity'\n",
        "plt.pie(_df_informative[feature].value_counts(dropna=False), labels = _df_informative[feature].value_counts(dropna=False).index)\n",
        "plt.title(feature)\n",
        "plt.close()#plt.show() "
      ]
    },
    {
      "cell_type": "code",
      "source": [
        "_df_informative_working = _df_informative.copy()\n",
        "\n",
        "_df_informative_working['std_gender_identity'] = _df_informative_working['Gender Identity']\n",
        "_df_informative_working['std_gender_identity'] = _df_informative_working['std_gender_identity'].apply(lambda row: standardize_row(row))\n",
        "# _df_informative_working['std_gender_identity'].loc[_df_informative_working['std_gender_identity'].isin(['prefer_to_selfdescribe','prefer_not_to_say','nonbinary']),'std_gender_identity']\n",
        "# _df_informative_working['std_gender_identity'].value_counts()\n",
        "# _df_informative = _df_informative_working.copy()\n",
        "_df_informative_working['std_gender_identity'].loc[_df_informative_working['std_gender_identity'].isin(['prefer_to_selfdescribe','prefer_not_to_say','nonbinary'])] ='other'\n",
        "_df_informative = _df_informative_working.copy()\n"
      ],
      "metadata": {
        "colab": {
          "base_uri": "https://localhost:8080/"
        },
        "id": "i6yXBV006LAd",
        "outputId": "88810f37-b4a0-42bf-982d-f5c58b895581"
      },
      "execution_count": 33,
      "outputs": [
        {
          "output_type": "stream",
          "name": "stderr",
          "text": [
            "/usr/local/lib/python3.7/dist-packages/pandas/core/indexing.py:1732: SettingWithCopyWarning: \n",
            "A value is trying to be set on a copy of a slice from a DataFrame\n",
            "\n",
            "See the caveats in the documentation: https://pandas.pydata.org/pandas-docs/stable/user_guide/indexing.html#returning-a-view-versus-a-copy\n",
            "  self._setitem_single_block(indexer, value, name)\n"
          ]
        }
      ]
    },
    {
      "cell_type": "code",
      "source": [
        "feature = 'std_gender_identity'\n",
        "plt.pie(_df_informative[feature].value_counts(dropna=False), labels = _df_informative[feature].value_counts(dropna=False).index)\n",
        "plt.title(feature)\n",
        "plt.close()#plt.show() "
      ],
      "metadata": {
        "id": "kk2Hbv2U7DdM"
      },
      "execution_count": 34,
      "outputs": []
    },
    {
      "cell_type": "code",
      "execution_count": 35,
      "metadata": {
        "id": "9OfaPdTeVq2y"
      },
      "outputs": [],
      "source": [
        "feature = 'Gender Identity Description'\n",
        "plt.pie(_df_informative[feature].value_counts(dropna=False), labels = _df_informative[feature].value_counts(dropna=False).index)\n",
        "plt.title(feature)\n",
        "plt.close()#plt.show() "
      ]
    },
    {
      "cell_type": "markdown",
      "metadata": {
        "id": "yd5PWLn-sElB"
      },
      "source": [
        "## 2.7 Geographical Demographics\n",
        "  - Left the same\n",
        "  * potentially worth hot encoding after\n",
        "\n"
      ]
    },
    {
      "cell_type": "code",
      "execution_count": 36,
      "metadata": {
        "id": "BBdQY7iosDg5"
      },
      "outputs": [],
      "source": [
        "# _df_informative['Permanent County'].value_counts(dropna=False)\n",
        "feature = 'Permanent County'\n",
        "plt.pie(_df_informative[feature].value_counts(dropna=False), labels = _df_informative[feature].value_counts(dropna=False).index)\n",
        "plt.title(feature)\n",
        "plt.close()#plt.show() "
      ]
    },
    {
      "cell_type": "code",
      "execution_count": 37,
      "metadata": {
        "id": "fo44RK0jsaUs"
      },
      "outputs": [],
      "source": [
        "feature = 'Permanent Region'\n",
        "plt.pie(_df_informative[feature].value_counts(dropna=False), labels = _df_informative[feature].value_counts(dropna=False).index)\n",
        "plt.title(feature)\n",
        "plt.close()#plt.show() "
      ]
    },
    {
      "cell_type": "code",
      "execution_count": 38,
      "metadata": {
        "id": "IRvUoZfwseJQ"
      },
      "outputs": [],
      "source": [
        "feature = 'Permanent Postal'\n",
        "plt.pie(_df_informative[feature].value_counts(dropna=False), labels = _df_informative[feature].value_counts(dropna=False).index)\n",
        "plt.title(feature)\n",
        "plt.close()#plt.show() "
      ]
    },
    {
      "cell_type": "code",
      "execution_count": 39,
      "metadata": {
        "id": "YpCE4w0-slXp"
      },
      "outputs": [],
      "source": [
        "feature = 'Permanent Country'\n",
        "plt.pie(_df_informative[feature].value_counts(dropna=False), labels = _df_informative[feature].value_counts(dropna=False).index)\n",
        "plt.title(feature)\n",
        "plt.close()#plt.show() "
      ]
    },
    {
      "cell_type": "markdown",
      "metadata": {
        "id": "iGueY-tbWGl2"
      },
      "source": [
        "## 2.8 School Id\n",
        "- Map codes to names using school code data set.  "
      ]
    },
    {
      "cell_type": "code",
      "execution_count": 40,
      "metadata": {
        "id": "fmoIqagEu_Dc"
      },
      "outputs": [],
      "source": [
        "school_codes_dict=dict(zip(school_codes_df['HIGH SCHOOL CODE'].astype(str), school_codes_df['HIGH SCHOOL']))\n",
        "def school_codes_map(code, school_codes_dict):\n",
        "  if code in school_codes_dict:\n",
        "    return school_codes_dict[code]\n",
        "  else:\n",
        "    return float('nan')"
      ]
    },
    {
      "cell_type": "code",
      "execution_count": 41,
      "metadata": {
        "id": "2nUiLr1yWFAx"
      },
      "outputs": [],
      "source": [
        "# list(_df_informative['School 1 Institution Name'].value_counts(dropna=False).sort_index().index)\n",
        "feature = 'School 1 Institution Name'\n",
        "plt.pie(_df_informative[feature].value_counts(dropna=False), labels = _df_informative[feature].value_counts(dropna=False).index)\n",
        "plt.title(feature)\n",
        "plt.close()#plt.show() "
      ]
    },
    {
      "cell_type": "code",
      "execution_count": 42,
      "metadata": {
        "id": "jobXSYvHWOP2"
      },
      "outputs": [],
      "source": [
        "# _df_informative['School 1 Code - CEEB or Key'].value_counts(dropna=False)\n",
        "# list(_df_informative['School 1 Institution Name'].value_counts(dropna=False).sort_index().index)\n",
        "feature = 'School 1 Code - CEEB or Key'\n",
        "plt.pie(_df_informative[feature].value_counts(dropna=False), labels = _df_informative[feature].value_counts(dropna=False).index)\n",
        "plt.title(feature)\n",
        "plt.close()#plt.show() "
      ]
    },
    {
      "cell_type": "code",
      "execution_count": 43,
      "metadata": {
        "id": "8cbq5d3UqoC7"
      },
      "outputs": [],
      "source": [
        "_df_informative_school = _df_informative.copy()\n",
        "# _df_informative_school['school_std'] = _df_informative_school['School 1 Code - CEEB or Key']\n",
        "_df_informative_school['std_school'] = _df_informative_school['School 1 Code - CEEB or Key'].apply(lambda row: school_codes_map(row, school_codes_dict))\n",
        "\n",
        "_df_informative_school['std_school'] = _df_informative_school['std_school'].apply(lambda row: standardize_row(row))\n",
        "\n",
        "_df_informative = _df_informative_school"
      ]
    },
    {
      "cell_type": "code",
      "execution_count": 44,
      "metadata": {
        "id": "WbRo3R4orqFX"
      },
      "outputs": [],
      "source": [
        "feature = 'std_school'\n",
        "plt.pie(_df_informative[feature].value_counts(dropna=False), labels = _df_informative[feature].value_counts(dropna=False).index)\n",
        "plt.title(feature)\n",
        "plt.close()#plt.show() "
      ]
    },
    {
      "cell_type": "markdown",
      "source": [
        "# 2.9 Parent Income\n",
        "\n"
      ],
      "metadata": {
        "id": "Fm-I0cv27ooL"
      }
    },
    {
      "cell_type": "code",
      "source": [
        "_df_informative_working = _df_informative.copy()\n",
        "\n",
        "_df_informative_working['std_parent_education'] = _df_informative_working['Non-Degree Application Parent College Education']\n",
        "_df_informative_working['std_parent_education'] = _df_informative_working['std_parent_education'].apply(lambda row: standardize_row(row))\n",
        "# _df_informative_working['std_gender_identity'].loc[_df_informative_working['std_gender_identity'].isin(['prefer_to_selfdescribe','prefer_not_to_say','nonbinary']),'std_gender_identity']\n",
        "# _df_informative_working['std_gender_identity'].value_counts()\n",
        "# _df_informative = _df_informative_working.copy()\n",
        "_df_informative_working['std_parent_education'].loc[_df_informative_working['std_parent_education'].isin(['more_than_two','two'])] ='two_or_more'\n",
        "_df_informative = _df_informative_working.copy()\n",
        "# _df_informative_working['std_parent_education'].value_counts()"
      ],
      "metadata": {
        "colab": {
          "base_uri": "https://localhost:8080/"
        },
        "id": "gtu5PIIH7rqd",
        "outputId": "09e0b0c1-144d-4d66-badf-4c2f2b641726"
      },
      "execution_count": 45,
      "outputs": [
        {
          "output_type": "stream",
          "name": "stderr",
          "text": [
            "/usr/local/lib/python3.7/dist-packages/pandas/core/indexing.py:1732: SettingWithCopyWarning: \n",
            "A value is trying to be set on a copy of a slice from a DataFrame\n",
            "\n",
            "See the caveats in the documentation: https://pandas.pydata.org/pandas-docs/stable/user_guide/indexing.html#returning-a-view-versus-a-copy\n",
            "  self._setitem_single_block(indexer, value, name)\n"
          ]
        }
      ]
    },
    {
      "cell_type": "markdown",
      "metadata": {
        "id": "P8xnhWK2Wd0x"
      },
      "source": [
        "## 2.10 GPA\n",
        "*   Convert anything above 10 to 4 point scale by subtracting 60, dividing by 10 and setting a floor at 0\n",
        "* Subject specifci GPA is too messy to standardize\n",
        "* Consider looking and different GPA buckets\n",
        "* Consider parsing the Subject Specific data"
      ]
    },
    {
      "cell_type": "code",
      "execution_count": 46,
      "metadata": {
        "id": "zbBO01oXWPWq"
      },
      "outputs": [],
      "source": [
        "feature = 'School 1 GPA'\n",
        "plt.pie(_df_informative[feature].value_counts(dropna=False), labels = _df_informative[feature].value_counts(dropna=False).index)\n",
        "plt.title(feature)\n",
        "plt.close()#plt.show() \n",
        "\n",
        "plt.hist(_df_informative[feature])\n",
        "plt.title(feature)\n",
        "plt.close()#plt.show() "
      ]
    },
    {
      "cell_type": "code",
      "execution_count": 47,
      "metadata": {
        "id": "ZwJk7qZ-5LD0"
      },
      "outputs": [],
      "source": [
        "\n",
        "def gpa_scaling(gpa):\n",
        "  if isinstance(gpa, (int,float)):\n",
        "    if (gpa >4) & (gpa<=10):\n",
        "      return 4\n",
        "    elif gpa >10:\n",
        "      if gpa > 93:\n",
        "        return 4.\n",
        "      elif gpa > 90:\n",
        "        return 3.7\n",
        "      elif gpa >87:\n",
        "        return 3.3\n",
        "      elif gpa >83:\n",
        "        return 3.\n",
        "      elif gpa >80:\n",
        "        return 2.7\n",
        "      elif gpa > 77:\n",
        "        return 2.3\n",
        "      elif gpa > 73:\n",
        "        return 2.\n",
        "      elif gpa >70:\n",
        "        return 1.7\n",
        "      elif gpa >67:\n",
        "        return 1.3\n",
        "      elif gpa > 63:\n",
        "        return 1.\n",
        "      elif gpa > 60:\n",
        "        return .7\n",
        "      else:\n",
        "        return 0.0\n",
        "      # return(min(max((gpa - 60)/ 10,0),4))\n",
        "    else:\n",
        "      return gpa\n",
        "  else:\n",
        "    return pd.NA      "
      ]
    },
    {
      "cell_type": "code",
      "execution_count": 48,
      "metadata": {
        "id": "NweXYQlm1yWp"
      },
      "outputs": [],
      "source": [
        "_df_informative_gpa = _df_informative.copy()\n",
        "# _df_informative_school['school_std'] = _df_informative_school['School 1 Code - CEEB or Key']\n",
        "_df_informative_gpa['std_gpa'] = _df_informative_gpa['School 1 GPA'].apply(lambda row: gpa_scaling(row))\n",
        "\n",
        "_df_informative = _df_informative_gpa.copy()"
      ]
    },
    {
      "cell_type": "code",
      "source": [
        "_df_informative_working = _df_informative.copy()\n",
        "_df_informative_working['oh_gpa_nan'] = _df_informative_working['std_gpa'].isna()*1\n",
        "_df_informative_working['std_imputed_gpa'] = _df_informative_working['std_gpa'].fillna(value=_df_informative_working.std_gpa.mean(), inplace=False)\n",
        "_df_informative = _df_informative_working.copy()"
      ],
      "metadata": {
        "id": "cDt_6-29esLd"
      },
      "execution_count": 49,
      "outputs": []
    },
    {
      "cell_type": "code",
      "execution_count": 50,
      "metadata": {
        "id": "jNLBQlAf6vNR"
      },
      "outputs": [],
      "source": [
        "feature = 'std_imputed_gpa'\n",
        "plt.pie(_df_informative[feature].value_counts(dropna=False), labels = _df_informative[feature].value_counts(dropna=False).index)\n",
        "plt.title(feature)\n",
        "plt.close()#plt.show() \n",
        "\n",
        "plt.hist(_df_informative[feature])\n",
        "plt.title(feature)\n",
        "plt.close()#plt.show() "
      ]
    },
    {
      "cell_type": "code",
      "execution_count": 51,
      "metadata": {
        "id": "0glXogKhQhDW"
      },
      "outputs": [],
      "source": [
        "def extract_floats(s):\n",
        "  if isinstance(s,str):\n",
        "    ext_float_list = re.findall('\\d*\\.?\\d+',s)\n",
        "    scaled_float_list = []\n",
        "    if len(ext_float_list) == 0:\n",
        "      return float('nan')\n",
        "    for extracted_number in ext_float_list:\n",
        "      gpa = float(extracted_number)\n",
        "      if (gpa >4) & (gpa<=10):\n",
        "        scaled_float_list.append(4)\n",
        "        return 4\n",
        "      elif gpa >10:\n",
        "        if gpa > 93:\n",
        "          scaled_float_list.append(4.0)\n",
        "        elif gpa > 90:\n",
        "          scaled_float_list.append(3.7)\n",
        "        elif gpa >87:\n",
        "          scaled_float_list.append(3.3)\n",
        "        elif gpa >83:\n",
        "          scaled_float_list.append(3.0)\n",
        "        elif gpa >80:\n",
        "          scaled_float_list.append(2.7)\n",
        "        elif gpa > 77:\n",
        "          scaled_float_list.append(2.3)\n",
        "        elif gpa > 73:\n",
        "          scaled_float_list.append(2.0)\n",
        "        elif gpa >70:\n",
        "          scaled_float_list.append(1.7)\n",
        "        elif gpa >67:\n",
        "          scaled_float_list.append(1.3)\n",
        "        elif gpa > 63:\n",
        "          scaled_float_list.append(1.0)\n",
        "        elif gpa > 60:\n",
        "          scaled_float_list.append(0.7)\n",
        "        else:\n",
        "          scaled_float_list.append(0.0)\n",
        "      else:\n",
        "        return gpa\n",
        "    return sum(scaled_float_list)/len(scaled_float_list)\n",
        "  return s"
      ]
    },
    {
      "cell_type": "code",
      "execution_count": 52,
      "metadata": {
        "id": "bB4mSRsAP81f"
      },
      "outputs": [],
      "source": [
        "import re \n",
        "\n",
        "feature = 'Non-Degree Application GPA in Specified Subjects'\n",
        "_df_informative_gpa_specified = _df_informative.copy()\n",
        "# _df_informative_school['school_std'] = _df_informative_school['School 1 Code - CEEB or Key']\n",
        "_df_informative_gpa_specified['std_gpa_specified'] = _df_informative_gpa_specified[feature].apply(lambda row: extract_floats(row))\n",
        "_df_informative = _df_informative_gpa_specified.copy()"
      ]
    },
    {
      "cell_type": "code",
      "source": [
        "_df_informative_working = _df_informative.copy()\n",
        "_df_informative_working['oh_std_gpa_specified_nan'] = _df_informative_working['std_gpa_specified'].isna()*1\n",
        "_df_informative_working['std_imputed_gpa_specified'] = _df_informative_working['std_gpa_specified'].fillna(value=_df_informative_working.std_gpa_specified.mean(), inplace=False)\n",
        "_df_informative = _df_informative_working.copy()"
      ],
      "metadata": {
        "id": "clURGAUkfOdA"
      },
      "execution_count": 53,
      "outputs": []
    },
    {
      "cell_type": "code",
      "execution_count": 54,
      "metadata": {
        "id": "Nmz3xxaxBH5T"
      },
      "outputs": [],
      "source": [
        "feature = 'std_imputed_gpa_specified'\n",
        "plt.pie(_df_informative[feature].value_counts(dropna=False), labels = _df_informative[feature].value_counts(dropna=False).index)\n",
        "plt.title(feature)\n",
        "plt.close()#plt.show() \n",
        "\n",
        "plt.hist(_df_informative[feature])\n",
        "plt.title(feature)\n",
        "plt.close()#plt.show() "
      ]
    },
    {
      "cell_type": "markdown",
      "metadata": {
        "id": "I5mri1rE9iwL"
      },
      "source": [
        "## 2.11 Areas of Interest\n",
        "\n",
        "* Very Clean Data\n"
      ]
    },
    {
      "cell_type": "code",
      "execution_count": 55,
      "metadata": {
        "id": "sOJvxtKk_U6H"
      },
      "outputs": [],
      "source": [
        "feature = 'Area of Interest #1'\n",
        "plt.pie(_df_informative[feature].value_counts(dropna=False), labels = _df_informative[feature].value_counts(dropna=False).index)\n",
        "plt.title(feature)\n",
        "plt.close()#plt.show() \n",
        "\n",
        "feature = 'Area of Interest #2'\n",
        "plt.pie(_df_informative[feature].value_counts(dropna=False), labels = _df_informative[feature].value_counts(dropna=False).index)\n",
        "plt.title(feature)\n",
        "plt.close()#plt.show() \n",
        "\n",
        "feature = 'Area of Interest #3'\n",
        "plt.pie(_df_informative[feature].value_counts(dropna=False), labels = _df_informative[feature].value_counts(dropna=False).index)\n",
        "plt.title(feature)\n",
        "plt.close()#plt.show() "
      ]
    },
    {
      "cell_type": "markdown",
      "metadata": {
        "id": "9Zi9PkSpEzDW"
      },
      "source": [
        "## 2.12 NYU Other\n",
        "\n",
        "* Course participation - low engagment not sure what it is.  Leave as i\n",
        "* Prior NYU application - Assume it means if you've applied to did before.  Well documents. Leave as it\n",
        "* Non-NYU stem participation.  Messy No way to standardize.  Good feature to suggest data collection techniques.\n",
        "*binarize participation"
      ]
    },
    {
      "cell_type": "code",
      "execution_count": 56,
      "metadata": {
        "id": "XqgDjKcoELda"
      },
      "outputs": [],
      "source": [
        "feature = 'NYU Program or Course Participation Selection'\n",
        "plt.pie(_df_informative[feature].value_counts(dropna=False), labels = _df_informative[feature].value_counts(dropna=False).index)\n",
        "plt.title(feature)\n",
        "plt.close()#plt.show() "
      ]
    },
    {
      "cell_type": "code",
      "execution_count": 57,
      "metadata": {
        "id": "m7Oq_LGaFwMA",
        "colab": {
          "base_uri": "https://localhost:8080/"
        },
        "outputId": "4daafc4d-249e-4ff2-8d0a-5852a2cab094"
      },
      "outputs": [
        {
          "output_type": "stream",
          "name": "stdout",
          "text": [
            "CategoricalIndex([0.0, nan, 1.0], categories=[0.0, 1.0], ordered=False, dtype='category')\n"
          ]
        }
      ],
      "source": [
        "feature = 'Non-Degree Application Prior NYU Application'\n",
        "plt.pie(_df_informative[feature].value_counts(dropna=False), labels = _df_informative[feature].value_counts(dropna=False).index)\n",
        "plt.title(feature)\n",
        "plt.close()#plt.show() \n",
        "print(_df_informative[feature].value_counts(dropna=False).index)"
      ]
    },
    {
      "cell_type": "code",
      "execution_count": 58,
      "metadata": {
        "id": "1g14T7-rFOVE"
      },
      "outputs": [],
      "source": [
        "feature = 'Non-NYU Stem Participation'\n",
        "plt.pie(_df_informative[feature].value_counts(dropna=False), labels = [i[:20] if isinstance(i,str) else i for i in list(_df_informative[feature].value_counts(dropna=False).index)])\n",
        "plt.title(feature)\n",
        "plt.close()#plt.show() "
      ]
    },
    {
      "cell_type": "code",
      "execution_count": 59,
      "metadata": {
        "id": "nNdrg6i7b0Rg"
      },
      "outputs": [],
      "source": [
        "feature = 'Non-NYU Stem Participation'\n",
        "\n",
        "_df_informative_non_nyu_stem = _df_informative.copy()\n",
        "# _df_informative_school['school_std'] = _df_informative_school['School 1 Code - CEEB or Key']\n",
        "_df_informative_non_nyu_stem['oh_non_nyu_stem'] = _df_informative_non_nyu_stem[feature].notna().astype(float)\n",
        "\n",
        "_df_informative = _df_informative_non_nyu_stem.copy()"
      ]
    },
    {
      "cell_type": "code",
      "execution_count": 60,
      "metadata": {
        "id": "3uxdMysyc4SB"
      },
      "outputs": [],
      "source": [
        "feature = 'oh_non_nyu_stem'\n",
        "plt.pie(_df_informative[feature].value_counts(dropna=False), labels = _df_informative[feature].value_counts(dropna=False).index)\n",
        "plt.title(feature)\n",
        "plt.close()#plt.show() "
      ]
    },
    {
      "cell_type": "markdown",
      "metadata": {
        "id": "WbV8AMduGw5N"
      },
      "source": [
        "## 2.13 Missing items\n",
        "* Missing reference, application, and transcript where one hot encoded in their own category"
      ]
    },
    {
      "cell_type": "code",
      "execution_count": 61,
      "metadata": {
        "id": "bJDcsTVxiAT4",
        "colab": {
          "base_uri": "https://localhost:8080/"
        },
        "outputId": "dae28743-92e2-4754-bece-40a435f2178e"
      },
      "outputs": [
        {
          "output_type": "execute_result",
          "data": {
            "text/plain": [
              "NaN                                                                                                                                    696\n",
              "Application                                                                                                                            342\n",
              "Application, Transcript (Official or Unofficial): Stuyvesant High School                                                                14\n",
              "Application, Transcript (Official or Unofficial): Brooklyn Technical High School                                                        10\n",
              "Application, Transcript (Official or Unofficial): Bronx High School of Science                                                           8\n",
              "                                                                                                                                      ... \n",
              "Reference: Stephanie Lim, Convent of the Sacred Heart                                                                                    1\n",
              "Reference: Arthur Lashiker, Department of Education                                                                                      1\n",
              "Application, Reference: Ross Pinkerton, Hunter College High school, Transcript (Official or Unofficial): Hunter College High School      1\n",
              "Reference: Danielle Ragavanis, Thomas A Edison CTE HS, Reference: Elvyn Perez, CTE                                                       1\n",
              "Application, Transcript (Official or Unofficial): Dalton School                                                                          1\n",
              "Name: All Missing Checklist Items (comma), Length: 212, dtype: int64"
            ]
          },
          "metadata": {},
          "execution_count": 61
        }
      ],
      "source": [
        "feature = 'All Missing Checklist Items (comma)'\n",
        "_df_informative[feature].value_counts(dropna=False)"
      ]
    },
    {
      "cell_type": "code",
      "execution_count": 62,
      "metadata": {
        "id": "eOKlPLBUEzMH"
      },
      "outputs": [],
      "source": [
        "feature = 'All Missing Checklist Items (comma)'\n",
        "plt.pie(_df_informative[feature].value_counts(dropna=False), labels = _df_informative[feature].value_counts(dropna=False).index)\n",
        "plt.title(feature)\n",
        "plt.close()#plt.show() "
      ]
    },
    {
      "cell_type": "code",
      "execution_count": 63,
      "metadata": {
        "id": "xQz13ZerKFmn"
      },
      "outputs": [],
      "source": [
        "row_list = []\n",
        "for row in _df_informative['All Missing Checklist Items (comma)']:\n",
        "  if isinstance(row,str):\n",
        "    test_split = row.split(',')\n",
        "    missing_item_list = []\n",
        "    for missing_item in test_split:\n",
        "      missing_item = missing_item.strip()\n",
        "      colon_loc = missing_item.find(':')\n",
        "      if colon_loc > 0: \n",
        "        missing_item_list.append(missing_item[:colon_loc])\n",
        "      else:\n",
        "        missing_item_list.append(missing_item)\n",
        "    row_list.append(missing_item_list)\n",
        " \n",
        "  else:\n",
        "     row_list.append(row)\n",
        "\n",
        "\n",
        "\n",
        "\n",
        "_df_informative_missing = _df_informative.copy()\n",
        "_df_informative_missing['std_missing_list'] = pd.Series(row_list)\n",
        "_df_informative = _df_informative_missing.copy()"
      ]
    },
    {
      "cell_type": "code",
      "execution_count": 64,
      "metadata": {
        "id": "B_Jegxogb7ME"
      },
      "outputs": [],
      "source": [
        "def missing_od_isin(missing_item, missing_item_list):\n",
        "  if isinstance(missing_item_list, list):\n",
        "    if missing_item in (missing_item_list):\n",
        "      return 1\n",
        "    else:\n",
        "      return 0\n",
        "  else:\n",
        "    return 0\n",
        "\n",
        "test_list = _df_informative.std_missing_list[2]\n",
        "test_item = 'References'\n",
        "missing_od_isin(test_item, test_list)\n",
        "\n",
        "missing_items_oi = ['Application', 'Reference',  'Transcript (Official or Unofficial)']\n",
        "\n",
        "for missin_item_oi in missing_items_oi:\n",
        "  _df_informative_missing_oh = _df_informative.copy()\n",
        "  \n",
        "  _df_informative_missing_oh['oh_missing_{}'.format(missin_item_oi.lower().replace(' ','_'))] = _df_informative_missing_oh.std_missing_list.apply(lambda row: missing_od_isin(missin_item_oi,row))\n",
        "  _df_informative = _df_informative_missing_oh.copy()"
      ]
    },
    {
      "cell_type": "code",
      "execution_count": 65,
      "metadata": {
        "id": "aGtFJDx7huJX"
      },
      "outputs": [],
      "source": [
        "#plot pie\n",
        "for missin_item_oi in missing_items_oi:\n",
        "  feature = missin_item_oi\n",
        "  plt.pie(_df_informative['oh_missing_{}'.format(missin_item_oi.lower().replace(' ','_'))].value_counts(dropna=False), labels = _df_informative['oh_missing_{}'.format(missin_item_oi.lower().replace(' ','_'))].value_counts(dropna=False).index)\n",
        "  plt.title('oh_missing_{}'.format(missin_item_oi.lower().replace(' ','_')))\n",
        "  plt.close()#plt.show() "
      ]
    },
    {
      "cell_type": "markdown",
      "metadata": {
        "id": "tl2P7WCuFC4t"
      },
      "source": [
        "# 3. Hot Encoding Standardized Categorical Data"
      ]
    },
    {
      "cell_type": "code",
      "execution_count": 66,
      "metadata": {
        "id": "dZyO4Ao-jKIO",
        "colab": {
          "base_uri": "https://localhost:8080/"
        },
        "outputId": "ee1a86ec-378d-43aa-9d0b-695ba1d07c1b"
      },
      "outputs": [
        {
          "output_type": "stream",
          "name": "stdout",
          "text": [
            "<class 'pandas.core.frame.DataFrame'>\n",
            "RangeIndex: 1330 entries, 0 to 1329\n",
            "Data columns (total 79 columns):\n",
            " #   Column                                                  Non-Null Count  Dtype         \n",
            "---  ------                                                  --------------  -----         \n",
            " 0   Unique Identifier                                       1330 non-null   int64         \n",
            " 1   Non-Degree Application SIS Decision                     768 non-null    object        \n",
            " 2   App Started Date                                        1329 non-null   object        \n",
            " 3   App Submitted Date                                      768 non-null    object        \n",
            " 4   Race                                                    992 non-null    object        \n",
            " 5   Hispanic                                                893 non-null    object        \n",
            " 6   Non-Degree Application Cultural Identity                823 non-null    object        \n",
            " 7   Non-Degree Application Cultural Identity Other          43 non-null     object        \n",
            " 8   Sex                                                     1170 non-null   object        \n",
            " 9   Gender Identity                                         1190 non-null   object        \n",
            " 10  Gender Identity Description                             5 non-null      object        \n",
            " 11  Non-Degree Application Family Income Range              879 non-null    object        \n",
            " 12  Non-Degree Application Parent College Education         886 non-null    object        \n",
            " 13  Permanent City                                          1174 non-null   object        \n",
            " 14  Permanent County                                        1169 non-null   object        \n",
            " 15  Permanent Region                                        1171 non-null   object        \n",
            " 16  Permanent Postal                                        1172 non-null   object        \n",
            " 17  Permanent Country                                       1174 non-null   object        \n",
            " 18  Emergency Contact Type 1                                977 non-null    object        \n",
            " 19  Emergency Contact Type 2                                296 non-null    object        \n",
            " 20  Non-Degree Application Current Grade Level              1328 non-null   category      \n",
            " 21  School 1 Institution Name                               1176 non-null   object        \n",
            " 22  School 1 Code - CEEB or Key                             1137 non-null   object        \n",
            " 23  School 1 GPA                                            1052 non-null   float64       \n",
            " 24  Non-Degree Application GPA in Specified Subjects        845 non-null    object        \n",
            " 25  Area of Interest #1                                     875 non-null    object        \n",
            " 26  Area of Interest #2                                     873 non-null    object        \n",
            " 27  Area of Interest #3                                     871 non-null    object        \n",
            " 28  NYU Program or Course Participation Selection           87 non-null     object        \n",
            " 29  Non-Degree Application Prior NYU Application            886 non-null    category      \n",
            " 30  Non-NYU Stem Participation                              376 non-null    object        \n",
            " 31  All Missing Checklist Items (comma)                     634 non-null    object        \n",
            " 32  std_decision                                            1330 non-null   object        \n",
            " 33  std_app_start_date                                      1329 non-null   datetime64[ns]\n",
            " 34  std_app_submitted_date                                  768 non-null    datetime64[ns]\n",
            " 35  std_app_start_days_before_deadline                      1329 non-null   float64       \n",
            " 36  std_app_submitted_days_before_deadline                  768 non-null    float64       \n",
            " 37  oh_app_start_days_before_deadline_nan                   1330 non-null   int64         \n",
            " 38  oh_app_submitted_days_before_deadline_nan               1330 non-null   int64         \n",
            " 39  std_imputed_app_start_days_before_deadline              1330 non-null   float64       \n",
            " 40  std_imputed_app_submitted_days_before_deadline          1330 non-null   float64       \n",
            " 41  std_race                                                992 non-null    object        \n",
            " 42  std_hispanic                                            893 non-null    object        \n",
            " 43  std_cultural_id                                         1330 non-null   object        \n",
            " 44  oh_cultural_id_nan                                      1330 non-null   float64       \n",
            " 45  oh_cultural_id_central_american_origin                  1330 non-null   float64       \n",
            " 46  oh_cultural_id_afro-caribbean_origin                    1330 non-null   float64       \n",
            " 47  oh_cultural_id_pacific_island_origin                    1330 non-null   float64       \n",
            " 48  oh_cultural_id_indian_subcontinent_origin               1330 non-null   float64       \n",
            " 49  oh_cultural_id_prefer_not_to_say                        1330 non-null   float64       \n",
            " 50  oh_cultural_id_middle_eastern_origin                    1330 non-null   float64       \n",
            " 51  oh_cultural_id_hawiian_origin                           1330 non-null   float64       \n",
            " 52  oh_cultural_id_cuban_origin                             1330 non-null   float64       \n",
            " 53  oh_cultural_id_european_origin                          1330 non-null   float64       \n",
            " 54  oh_cultural_id_south_asian                              1330 non-null   float64       \n",
            " 55  oh_cultural_id_african_origin                           1330 non-null   float64       \n",
            " 56  oh_cultural_id_north_american_(native_american)_origin  1330 non-null   float64       \n",
            " 57  oh_cultural_id_puerto_rican_origin                      1330 non-null   float64       \n",
            " 58  oh_cultural_id_mexican_origin                           1330 non-null   float64       \n",
            " 59  oh_cultural_id_southeast_asian_origin                   1330 non-null   float64       \n",
            " 60  oh_cultural_id_other                                    1330 non-null   float64       \n",
            " 61  oh_cultural_id_south_american_origin                    1330 non-null   float64       \n",
            " 62  oh_cultural_id_north_african_origin                     1330 non-null   float64       \n",
            " 63  oh_cultural_id_east_asian_origin                        1330 non-null   float64       \n",
            " 64  std_sex                                                 1170 non-null   object        \n",
            " 65  std_gender_identity                                     1190 non-null   object        \n",
            " 66  std_school                                              1096 non-null   object        \n",
            " 67  std_parent_education                                    886 non-null    object        \n",
            " 68  std_gpa                                                 1052 non-null   float64       \n",
            " 69  oh_gpa_nan                                              1330 non-null   int64         \n",
            " 70  std_imputed_gpa                                         1330 non-null   float64       \n",
            " 71  std_gpa_specified                                       841 non-null    float64       \n",
            " 72  oh_std_gpa_specified_nan                                1330 non-null   int64         \n",
            " 73  std_imputed_gpa_specified                               1330 non-null   float64       \n",
            " 74  oh_non_nyu_stem                                         1330 non-null   float64       \n",
            " 75  std_missing_list                                        634 non-null    object        \n",
            " 76  oh_missing_application                                  1330 non-null   int64         \n",
            " 77  oh_missing_reference                                    1330 non-null   int64         \n",
            " 78  oh_missing_transcript_(official_or_unofficial)          1330 non-null   int64         \n",
            "dtypes: category(2), datetime64[ns](2), float64(30), int64(8), object(37)\n",
            "memory usage: 803.0+ KB\n"
          ]
        }
      ],
      "source": [
        "_df_informative.info()"
      ]
    },
    {
      "cell_type": "code",
      "execution_count": 67,
      "metadata": {
        "id": "-3cX2auGPm5w"
      },
      "outputs": [],
      "source": [
        "from sklearn.preprocessing import OneHotEncoder\n",
        "\n",
        "#copy df\n",
        "df = _df_informative.copy()\n",
        "\n",
        "oh_feature_list = ['std_race',\n",
        "                   'Hispanic',\n",
        "                   'Sex',\n",
        "                   'Non-Degree Application Family Income Range',\n",
        "                   'std_parent_education',\n",
        "                   'std_school'\n",
        "                   ]\n",
        "\n",
        "oh_feature_name_dict = {'std_race':'oh_race',\n",
        "                        'Hispanic':'oh_hispanic',                        \n",
        "                        'Sex':'oh_sex',\n",
        "                        'Non-Degree Application Family Income Range':'oh_income',\n",
        "                        'std_parent_education':'oh_parent_education',\n",
        "                        'std_school':'oh_school'\n",
        "                        }\n",
        "\n",
        "encoder = OneHotEncoder(handle_unknown='ignore')\n",
        "encoded_array = encoder.fit_transform(df[oh_feature_list]).toarray()\n",
        "encoded_cat_dict = dict(zip(oh_feature_list,encoder.categories_))\n",
        "\n",
        "\n",
        "#create columns names\n",
        "oh_col_names = []\n",
        "for k,v in encoded_cat_dict.items():\n",
        "  prefix = oh_feature_name_dict[k]\n",
        "  for j in v:\n",
        "    if isinstance(j,str):\n",
        "      col_name = j.lower().replace(' ', '_')\n",
        "      col_name = prefix + \"_\" + col_name\n",
        "    else:\n",
        "      col_name = prefix + '_nan'\n",
        "    oh_col_names.append(col_name)\n",
        "\n",
        "encoded_df = pd.DataFrame(encoded_array, columns= oh_col_names)\n",
        "\n",
        "df_concat = pd.concat([df, encoded_df], axis=1)\n",
        "_df_informative = df_concat.copy()\n"
      ]
    },
    {
      "cell_type": "code",
      "execution_count": 68,
      "metadata": {
        "id": "L-yfLwSiY3RD",
        "colab": {
          "base_uri": "https://localhost:8080/"
        },
        "outputId": "a7a03de7-50e8-4dbd-81e1-9565ab6a7790"
      },
      "outputs": [
        {
          "output_type": "stream",
          "name": "stdout",
          "text": [
            "<class 'pandas.core.frame.DataFrame'>\n",
            "RangeIndex: 1330 entries, 0 to 1329\n",
            "Data columns (total 306 columns):\n",
            " #    Column                                                  Non-Null Count  Dtype         \n",
            "---   ------                                                  --------------  -----         \n",
            " 0    orig_unique_identifier                                  1330 non-null   int64         \n",
            " 1    orig_nondegree_application_sis_decision                 768 non-null    object        \n",
            " 2    orig_app_started_date                                   1329 non-null   object        \n",
            " 3    orig_app_submitted_date                                 768 non-null    object        \n",
            " 4    orig_race                                               992 non-null    object        \n",
            " 5    orig_hispanic                                           893 non-null    object        \n",
            " 6    orig_nondegree_application_cultural_identity            823 non-null    object        \n",
            " 7    orig_nondegree_application_cultural_identity_other      43 non-null     object        \n",
            " 8    orig_sex                                                1170 non-null   object        \n",
            " 9    orig_gender_identity                                    1190 non-null   object        \n",
            " 10   orig_gender_identity_description                        5 non-null      object        \n",
            " 11   orig_nondegree_application_family_income_range          879 non-null    object        \n",
            " 12   orig_nondegree_application_parent_college_education     886 non-null    object        \n",
            " 13   orig_permanent_city                                     1174 non-null   object        \n",
            " 14   orig_permanent_county                                   1169 non-null   object        \n",
            " 15   orig_permanent_region                                   1171 non-null   object        \n",
            " 16   orig_permanent_postal                                   1172 non-null   object        \n",
            " 17   orig_permanent_country                                  1174 non-null   object        \n",
            " 18   orig_emergency_contact_type_1                           977 non-null    object        \n",
            " 19   orig_emergency_contact_type_2                           296 non-null    object        \n",
            " 20   orig_nondegree_application_current_grade_level          1328 non-null   category      \n",
            " 21   orig_school_1_institution_name                          1176 non-null   object        \n",
            " 22   orig_school_1_code__ceeb_or_key                         1137 non-null   object        \n",
            " 23   orig_school_1_gpa                                       1052 non-null   float64       \n",
            " 24   orig_nondegree_application_gpa_in_specified_subjects    845 non-null    object        \n",
            " 25   orig_area_of_interest_1                                 875 non-null    object        \n",
            " 26   orig_area_of_interest_2                                 873 non-null    object        \n",
            " 27   orig_area_of_interest_3                                 871 non-null    object        \n",
            " 28   orig_nyu_program_or_course_participation_selection      87 non-null     object        \n",
            " 29   orig_nondegree_application_prior_nyu_application        886 non-null    category      \n",
            " 30   orig_nonnyu_stem_participation                          376 non-null    object        \n",
            " 31   orig_all_missing_checklist_items_comma                  634 non-null    object        \n",
            " 32   std_decision                                            1330 non-null   object        \n",
            " 33   std_app_start_date                                      1329 non-null   datetime64[ns]\n",
            " 34   std_app_submitted_date                                  768 non-null    datetime64[ns]\n",
            " 35   std_app_start_days_before_deadline                      1329 non-null   float64       \n",
            " 36   std_app_submitted_days_before_deadline                  768 non-null    float64       \n",
            " 37   oh_app_start_days_before_deadline_nan                   1330 non-null   int64         \n",
            " 38   oh_app_submitted_days_before_deadline_nan               1330 non-null   int64         \n",
            " 39   std_imputed_app_start_days_before_deadline              1330 non-null   float64       \n",
            " 40   std_imputed_app_submitted_days_before_deadline          1330 non-null   float64       \n",
            " 41   std_race                                                992 non-null    object        \n",
            " 42   std_hispanic                                            893 non-null    object        \n",
            " 43   std_cultural_id                                         1330 non-null   object        \n",
            " 44   oh_cultural_id_nan                                      1330 non-null   float64       \n",
            " 45   oh_cultural_id_central_american_origin                  1330 non-null   float64       \n",
            " 46   oh_cultural_id_afro-caribbean_origin                    1330 non-null   float64       \n",
            " 47   oh_cultural_id_pacific_island_origin                    1330 non-null   float64       \n",
            " 48   oh_cultural_id_indian_subcontinent_origin               1330 non-null   float64       \n",
            " 49   oh_cultural_id_prefer_not_to_say                        1330 non-null   float64       \n",
            " 50   oh_cultural_id_middle_eastern_origin                    1330 non-null   float64       \n",
            " 51   oh_cultural_id_hawiian_origin                           1330 non-null   float64       \n",
            " 52   oh_cultural_id_cuban_origin                             1330 non-null   float64       \n",
            " 53   oh_cultural_id_european_origin                          1330 non-null   float64       \n",
            " 54   oh_cultural_id_south_asian                              1330 non-null   float64       \n",
            " 55   oh_cultural_id_african_origin                           1330 non-null   float64       \n",
            " 56   oh_cultural_id_north_american_(native_american)_origin  1330 non-null   float64       \n",
            " 57   oh_cultural_id_puerto_rican_origin                      1330 non-null   float64       \n",
            " 58   oh_cultural_id_mexican_origin                           1330 non-null   float64       \n",
            " 59   oh_cultural_id_southeast_asian_origin                   1330 non-null   float64       \n",
            " 60   oh_cultural_id_other                                    1330 non-null   float64       \n",
            " 61   oh_cultural_id_south_american_origin                    1330 non-null   float64       \n",
            " 62   oh_cultural_id_north_african_origin                     1330 non-null   float64       \n",
            " 63   oh_cultural_id_east_asian_origin                        1330 non-null   float64       \n",
            " 64   std_sex                                                 1170 non-null   object        \n",
            " 65   std_gender_identity                                     1190 non-null   object        \n",
            " 66   std_school                                              1096 non-null   object        \n",
            " 67   std_parent_education                                    886 non-null    object        \n",
            " 68   std_gpa                                                 1052 non-null   float64       \n",
            " 69   oh_gpa_nan                                              1330 non-null   int64         \n",
            " 70   std_imputed_gpa                                         1330 non-null   float64       \n",
            " 71   std_gpa_specified                                       841 non-null    float64       \n",
            " 72   oh_std_gpa_specified_nan                                1330 non-null   int64         \n",
            " 73   std_imputed_gpa_specified                               1330 non-null   float64       \n",
            " 74   oh_non_nyu_stem                                         1330 non-null   float64       \n",
            " 75   std_missing_list                                        634 non-null    object        \n",
            " 76   oh_missing_application                                  1330 non-null   int64         \n",
            " 77   oh_missing_reference                                    1330 non-null   int64         \n",
            " 78   oh_missing_transcript_(official_or_unofficial)          1330 non-null   int64         \n",
            " 79   oh_race_american_indian_or_alaska_native                1330 non-null   float64       \n",
            " 80   oh_race_asian                                           1330 non-null   float64       \n",
            " 81   oh_race_black_or_african_american                       1330 non-null   float64       \n",
            " 82   oh_race_two_or_more                                     1330 non-null   float64       \n",
            " 83   oh_race_white                                           1330 non-null   float64       \n",
            " 84   oh_race_nan                                             1330 non-null   float64       \n",
            " 85   oh_hispanic_no                                          1330 non-null   float64       \n",
            " 86   oh_hispanic_yes                                         1330 non-null   float64       \n",
            " 87   oh_hispanic_nan                                         1330 non-null   float64       \n",
            " 88   oh_sex_f                                                1330 non-null   float64       \n",
            " 89   oh_sex_m                                                1330 non-null   float64       \n",
            " 90   oh_sex_nan                                              1330 non-null   float64       \n",
            " 91   oh_income_$100,000_to_149,999                           1330 non-null   float64       \n",
            " 92   oh_income_$20,000_to_39,999                             1330 non-null   float64       \n",
            " 93   oh_income_$40,000_to_59,999                             1330 non-null   float64       \n",
            " 94   oh_income_$60,000_to_79,999                             1330 non-null   float64       \n",
            " 95   oh_income_$80,000_to_99,999                             1330 non-null   float64       \n",
            " 96   oh_income_i_don't_know                                  1330 non-null   float64       \n",
            " 97   oh_income_less_than_$19,999                             1330 non-null   float64       \n",
            " 98   oh_income_more_than_$150,000                            1330 non-null   float64       \n",
            " 99   oh_income_nan                                           1330 non-null   float64       \n",
            " 100  oh_parent_education_none                                1330 non-null   float64       \n",
            " 101  oh_parent_education_one                                 1330 non-null   float64       \n",
            " 102  oh_parent_education_two_or_more                         1330 non-null   float64       \n",
            " 103  oh_parent_education_nan                                 1330 non-null   float64       \n",
            " 104  oh_school_a_philip_randolph_campus_hs                   1330 non-null   float64       \n",
            " 105  oh_school_abraham_lincoln_high_school                   1330 non-null   float64       \n",
            " 106  oh_school_acad_conservation_and_environ                 1330 non-null   float64       \n",
            " 107  oh_school_academy_of_american_studies                   1330 non-null   float64       \n",
            " 108  oh_school_achievement_first_univ_prep                   1330 non-null   float64       \n",
            " 109  oh_school_al_noor_school                                1330 non-null   float64       \n",
            " 110  oh_school_all_city_leadership_secondary                 1330 non-null   float64       \n",
            " 111  oh_school_all_hallows_institute                         1330 non-null   float64       \n",
            " 112  oh_school_archbishop_molloy_high_school                 1330 non-null   float64       \n",
            " 113  oh_school_archimedes_acdmy_math_sci_tech                1330 non-null   float64       \n",
            " 114  oh_school_avenues_new_york                              1330 non-null   float64       \n",
            " 115  oh_school_aviation_high_school                          1330 non-null   float64       \n",
            " 116  oh_school_baccalaureate_sch_global_educ                 1330 non-null   float64       \n",
            " 117  oh_school_bard_high_school_early_college                1330 non-null   float64       \n",
            " 118  oh_school_bard_hsearly_college_queens                   1330 non-null   float64       \n",
            " 119  oh_school_baruch_college_campus_hs                      1330 non-null   float64       \n",
            " 120  oh_school_bayside_high_school                           1330 non-null   float64       \n",
            " 121  oh_school_beacon_high_school                            1330 non-null   float64       \n",
            " 122  oh_school_beacon_school                                 1330 non-null   float64       \n",
            " 123  oh_school_bedford_academy_high_school                   1330 non-null   float64       \n",
            " 124  oh_school_beekman_school                                1330 non-null   float64       \n",
            " 125  oh_school_benjamin_banneker_academy                     1330 non-null   float64       \n",
            " 126  oh_school_benjamin_cardozo_high_school                  1330 non-null   float64       \n",
            " 127  oh_school_birch_wathen_lenox_school                     1330 non-null   float64       \n",
            " 128  oh_school_bishop_loughlin_memorial_hs                   1330 non-null   float64       \n",
            " 129  oh_school_brearley_school                               1330 non-null   float64       \n",
            " 130  oh_school_bronx_academy_of_letters                      1330 non-null   float64       \n",
            " 131  oh_school_bronx_center_science__math                    1330 non-null   float64       \n",
            " 132  oh_school_bronx_collaborative_hs                        1330 non-null   float64       \n",
            " 133  oh_school_bronx_collegiate_academy                      1330 non-null   float64       \n",
            " 134  oh_school_bronx_health_sciences_high_sch                1330 non-null   float64       \n",
            " 135  oh_school_bronx_high_school_of_science                  1330 non-null   float64       \n",
            " 136  oh_school_bronx_international_hs                        1330 non-null   float64       \n",
            " 137  oh_school_bronx_lighthouse_charter_sch                  1330 non-null   float64       \n",
            " 138  oh_school_bronx_preparatory_charter_sch                 1330 non-null   float64       \n",
            " 139  oh_school_brooklyn_college_academy_hs                   1330 non-null   float64       \n",
            " 140  oh_school_brooklyn_friends_school                       1330 non-null   float64       \n",
            " 141  oh_school_brooklyn_hs_science_environmnt                1330 non-null   float64       \n",
            " 142  oh_school_brooklyn_latin_school                         1330 non-null   float64       \n",
            " 143  oh_school_brooklyn_school_math_research                 1330 non-null   float64       \n",
            " 144  oh_school_brooklyn_technical_high_school                1330 non-null   float64       \n",
            " 145  oh_school_browning_school                               1330 non-null   float64       \n",
            " 146  oh_school_cambria_heightsnew_literacies                 1330 non-null   float64       \n",
            " 147  oh_school_cardinal_hayes_high_school                    1330 non-null   float64       \n",
            " 148  oh_school_cardinal_spellman_high_school                 1330 non-null   float64       \n",
            " 149  oh_school_cathedral_high_school                         1330 non-null   float64       \n",
            " 150  oh_school_cathedral_preparatory_seminary                1330 non-null   float64       \n",
            " 151  oh_school_central_park_east                             1330 non-null   float64       \n",
            " 152  oh_school_chapin_school                                 1330 non-null   float64       \n",
            " 153  oh_school_chelsea_vocational_high_school                1330 non-null   float64       \n",
            " 154  oh_school_civic_leadership_academy                      1330 non-null   float64       \n",
            " 155  oh_school_clara_barton_h_s_health_prof                  1330 non-null   float64       \n",
            " 156  oh_school_cmty_health_ac_of_the_heights                 1330 non-null   float64       \n",
            " 157  oh_school_collegiate_inst_for_math__sci                 1330 non-null   float64       \n",
            " 158  oh_school_columbia_grammar_and_prep_sch                 1330 non-null   float64       \n",
            " 159  oh_school_columbia_secondary_school                     1330 non-null   float64       \n",
            " 160  oh_school_convent_of_the_sacred_heart                   1330 non-null   float64       \n",
            " 161  oh_school_cristo_rey_brooklyn_high_schl                 1330 non-null   float64       \n",
            " 162  oh_school_cristo_rey_hsnew_york                         1330 non-null   float64       \n",
            " 163  oh_school_csi_hs_international_studies                  1330 non-null   float64       \n",
            " 164  oh_school_curtis_high_school                            1330 non-null   float64       \n",
            " 165  oh_school_dalton_school                                 1330 non-null   float64       \n",
            " 166  oh_school_dominican_academy                             1330 non-null   float64       \n",
            " 167  oh_school_dr_izquierdo_health__sci_cs                   1330 non-null   float64       \n",
            " 168  oh_school_dr_kenneth_b_clark_academy                    1330 non-null   float64       \n",
            " 169  oh_school_dreamyard_preparatory_school                  1330 non-null   float64       \n",
            " 170  oh_school_east_fordham_colg_career_prep                 1330 non-null   float64       \n",
            " 171  oh_school_east_ny_hs_of_transit_tech                    1330 non-null   float64       \n",
            " 172  oh_school_east_side_community_hs                        1330 non-null   float64       \n",
            " 173  oh_school_edward_r_murrow_high_school                   1330 non-null   float64       \n",
            " 174  oh_school_eleanor_roosevelt_high_school                 1330 non-null   float64       \n",
            " 175  oh_school_evander_childs_high_school                    1330 non-null   float64       \n",
            " 176  oh_school_fdny_hs_for_firelife_safety                   1330 non-null   float64       \n",
            " 177  oh_school_fieldston_school                              1330 non-null   float64       \n",
            " 178  oh_school_fiorello_h_laguardia_hs_music                 1330 non-null   float64       \n",
            " 179  oh_school_food_and_finance_high_school                  1330 non-null   float64       \n",
            " 180  oh_school_fordham_preparatory_school                    1330 non-null   float64       \n",
            " 181  oh_school_forest_hills_high_school                      1330 non-null   float64       \n",
            " 182  oh_school_fort_hamilton_high_school                     1330 non-null   float64       \n",
            " 183  oh_school_francis_lewis_high_school                     1330 non-null   float64       \n",
            " 184  oh_school_frank_sinatra_sch_of_the_arts                 1330 non-null   float64       \n",
            " 185  oh_school_franklin_d_roosevelt_hs                       1330 non-null   float64       \n",
            " 186  oh_school_friends_seminary                              1330 non-null   float64       \n",
            " 187  oh_school_garden_school                                 1330 non-null   float64       \n",
            " 188  oh_school_grace_church_school                           1330 non-null   float64       \n",
            " 189  oh_school_heritage_school                               1330 non-null   float64       \n",
            " 190  oh_school_hicksville_high_school                        1330 non-null   float64       \n",
            " 191  oh_school_high_sch_for_arts_imag_and_inq                1330 non-null   float64       \n",
            " 192  oh_school_high_sch_health_prof_human_srv                1330 non-null   float64       \n",
            " 193  oh_school_high_sch_of_telecomm_arts_tech                1330 non-null   float64       \n",
            " 194  oh_school_high_school_american_studies                  1330 non-null   float64       \n",
            " 195  oh_school_high_school_envrnmntl_studies                 1330 non-null   float64       \n",
            " 196  oh_school_high_school_of_art_and_design                 1330 non-null   float64       \n",
            " 197  oh_school_hillcrest_high_school                         1330 non-null   float64       \n",
            " 198  oh_school_horace_mann_school                            1330 non-null   float64       \n",
            " 199  oh_school_hs_dual_languageasian_studies                 1330 non-null   float64       \n",
            " 200  oh_school_hs_for_arts__business                         1330 non-null   float64       \n",
            " 201  oh_school_hs_for_youthcmty_deverasmus                   1330 non-null   float64       \n",
            " 202  oh_school_hs_math_sci_eng_at_city_coll                  1330 non-null   float64       \n",
            " 203  oh_school_hunter_college_high_school                    1330 non-null   float64       \n",
            " 204  oh_school_institute_for_collaborative_ed                1330 non-null   float64       \n",
            " 205  oh_school_international_community_hs                    1330 non-null   float64       \n",
            " 206  oh_school_jamaica_gateway_to_the_science                1330 non-null   float64       \n",
            " 207  oh_school_james_madison_high_school                     1330 non-null   float64       \n",
            " 208  oh_school_john_bowne_high_school                        1330 non-null   float64       \n",
            " 209  oh_school_john_dewey_high_school                        1330 non-null   float64       \n",
            " 210  oh_school_kellenberg_memorial_high_schl                 1330 non-null   float64       \n",
            " 211  oh_school_kew_forest_school                             1330 non-null   float64       \n",
            " 212  oh_school_kingsborough_early_college_ss                 1330 non-null   float64       \n",
            " 213  oh_school_kingsbridge_international_hs                  1330 non-null   float64       \n",
            " 214  oh_school_lab_sch_fin__tech_mshs_223                    1330 non-null   float64       \n",
            " 215  oh_school_leadership_public_service_hs                  1330 non-null   float64       \n",
            " 216  oh_school_leman_manhattan_preparatory                   1330 non-null   float64       \n",
            " 217  oh_school_leon_m_goldstein_hs_sciences                  1330 non-null   float64       \n",
            " 218  oh_school_lycee_francais_de_new_york                    1330 non-null   float64       \n",
            " 219  oh_school_manhattan_bridges_high_school                 1330 non-null   float64       \n",
            " 220  oh_school_manhattan_ctr_for_sci_and_math                1330 non-null   float64       \n",
            " 221  oh_school_manhattan_hunter_science_hs                   1330 non-null   float64       \n",
            " 222  oh_school_manhattan_international_hs                    1330 non-null   float64       \n",
            " 223  oh_school_manhattan_village_academy                     1330 non-null   float64       \n",
            " 224  oh_school_martin_van_buren_high_school                  1330 non-null   float64       \n",
            " 225  oh_school_mary_louis_academy                            1330 non-null   float64       \n",
            " 226  oh_school_marymount_school_of_new_york                  1330 non-null   float64       \n",
            " 227  oh_school_maspeth_high_school                           1330 non-null   float64       \n",
            " 228  oh_school_masters_school                                1330 non-null   float64       \n",
            " 229  oh_school_medgar_evers_coll_preparatory                 1330 non-null   float64       \n",
            " 230  oh_school_mesa_charter_high_school                      1330 non-null   float64       \n",
            " 231  oh_school_metro_expeditionary_lrng_schl                 1330 non-null   float64       \n",
            " 232  oh_school_midwood_hs_at_brooklyn_college                1330 non-null   float64       \n",
            " 233  oh_school_millennium_brooklyn_high_schl                 1330 non-null   float64       \n",
            " 234  oh_school_millennium_high_school                        1330 non-null   float64       \n",
            " 235  oh_school_mount_vernon_high_school                      1330 non-null   float64       \n",
            " 236  oh_school_new_dorp_high_school                          1330 non-null   float64       \n",
            " 237  oh_school_new_explorations_sci_tech_math                1330 non-null   float64       \n",
            " 238  oh_school_new_hyde_park_memorial_hs                     1330 non-null   float64       \n",
            " 239  oh_school_new_rochelle_high_school_3                    1330 non-null   float64       \n",
            " 240  oh_school_new_visions_adv_math__sci_ii                  1330 non-null   float64       \n",
            " 241  oh_school_new_visions_charter_hs_ams                    1330 non-null   float64       \n",
            " 242  oh_school_new_visions_charter_humanities                1330 non-null   float64       \n",
            " 243  oh_school_new_visions_chs_adv_m_s_iii                   1330 non-null   float64       \n",
            " 244  oh_school_newtown_high_school                           1330 non-null   float64       \n",
            " 245  oh_school_nightingale_bamford_school                    1330 non-null   float64       \n",
            " 246  oh_school_nyc_ischool                                   1330 non-null   float64       \n",
            " 247  oh_school_pace_high_school                              1330 non-null   float64       \n",
            " 248  oh_school_packer_collegiate_institute                   1330 non-null   float64       \n",
            " 249  oh_school_pan_american_international_hs                 1330 non-null   float64       \n",
            " 250  oh_school_park_east_high_school                         1330 non-null   float64       \n",
            " 251  oh_school_pathways_in_tech_early_colg_hs                1330 non-null   float64       \n",
            " 252  oh_school_plainview_old_bethpage_jfk_hs                 1330 non-null   float64       \n",
            " 253  oh_school_professional_performng_arts_sc                1330 non-null   float64       \n",
            " 254  oh_school_queens_collegiate                             1330 non-null   float64       \n",
            " 255  oh_school_queens_gateway_health_sci_hs                  1330 non-null   float64       \n",
            " 256  oh_school_queens_hs_sciences__york_coll                 1330 non-null   float64       \n",
            " 257  oh_school_queens_metropolitan_hs                        1330 non-null   float64       \n",
            " 258  oh_school_queens_vocational__tech_hs                    1330 non-null   float64       \n",
            " 259  oh_school_ramaz_school                                  1330 non-null   float64       \n",
            " 260  oh_school_regis_high_school                             1330 non-null   float64       \n",
            " 261  oh_school_richard_r_green_hs_of_teaching                1330 non-null   float64       \n",
            " 262  oh_school_richmond_hill_high_school                     1330 non-null   float64       \n",
            " 263  oh_school_riverdalekingsbridge_academy                  1330 non-null   float64       \n",
            " 264  oh_school_robert_f_kennedy_community_hs                 1330 non-null   float64       \n",
            " 265  oh_school_robert_f_wagner_jr_ssat                       1330 non-null   float64       \n",
            " 266  oh_school_saint_anns_school                             1330 non-null   float64       \n",
            " 267  oh_school_saint_francis_preparatory_sch                 1330 non-null   float64       \n",
            " 268  oh_school_saint_jean_baptiste_hs                        1330 non-null   float64       \n",
            " 269  oh_school_saint_joseph_by_the_sea_hs                    1330 non-null   float64       \n",
            " 270  oh_school_saint_joseph_hill_academy                     1330 non-null   float64       \n",
            " 271  oh_school_saint_saviour_high_school                     1330 non-null   float64       \n",
            " 272  oh_school_salesian_high_school                          1330 non-null   float64       \n",
            " 273  oh_school_sar_high_school                               1330 non-null   float64       \n",
            " 274  oh_school_saunders_trades_and_tech_hs                   1330 non-null   float64       \n",
            " 275  oh_school_scholars_academy                              1330 non-null   float64       \n",
            " 276  oh_school_school_of_the_future                          1330 non-null   float64       \n",
            " 277  oh_school_science_tech_res_hs_erasmus                   1330 non-null   float64       \n",
            " 278  oh_school_staten_island_technical_hs                    1330 non-null   float64       \n",
            " 279  oh_school_stuyvesant_high_school                        1330 non-null   float64       \n",
            " 280  oh_school_sunset_park_high_school                       1330 non-null   float64       \n",
            " 281  oh_school_susan_e_wagner_high_school                    1330 non-null   float64       \n",
            " 282  oh_school_thom_edison_career_tech_ed_hs                 1330 non-null   float64       \n",
            " 283  oh_school_tottenville_high_school                       1330 non-null   float64       \n",
            " 284  oh_school_townsend_harris_high_school                   1330 non-null   float64       \n",
            " 285  oh_school_trinity_school                                1330 non-null   float64       \n",
            " 286  oh_school_ua_institute_math_young_women                 1330 non-null   float64       \n",
            " 287  oh_school_ua_new_york_harbor_school                     1330 non-null   float64       \n",
            " 288  oh_school_uncommon_charter_high_school                  1330 non-null   float64       \n",
            " 289  oh_school_uncommon_colg_charter_hs                      1330 non-null   float64       \n",
            " 290  oh_school_united_nations_internatl_sch                  1330 non-null   float64       \n",
            " 291  oh_school_university_heights_high_school                1330 non-null   float64       \n",
            " 292  oh_school_urban_assemby_schl_technology                 1330 non-null   float64       \n",
            " 293  oh_school_ursuline_school                               1330 non-null   float64       \n",
            " 294  oh_school_william_c_bryant_high_school                  1330 non-null   float64       \n",
            " 295  oh_school_wings_academy                                 1330 non-null   float64       \n",
            " 296  oh_school_womens_academy_of_excellence                  1330 non-null   float64       \n",
            " 297  oh_school_world_view_high_school                        1330 non-null   float64       \n",
            " 298  oh_school_xaverian_high_school                          1330 non-null   float64       \n",
            " 299  oh_school_xavier_high_school                            1330 non-null   float64       \n",
            " 300  oh_school_yonkers_middle_high_school                    1330 non-null   float64       \n",
            " 301  oh_school_york_early_college_academy                    1330 non-null   float64       \n",
            " 302  oh_school_york_preparatory_school                       1330 non-null   float64       \n",
            " 303  oh_school_young_womens_leadershipli                     1330 non-null   float64       \n",
            " 304  oh_school_young_womens_leadersqueens                    1330 non-null   float64       \n",
            " 305  oh_school_nan                                           1330 non-null   float64       \n",
            "dtypes: category(2), datetime64[ns](2), float64(257), int64(8), object(37)\n",
            "memory usage: 3.1+ MB\n"
          ]
        }
      ],
      "source": [
        "df = _df_informative.copy()\n",
        "\n",
        "orig_col_names = ['Unique Identifier ',\n",
        " 'Non-Degree Application SIS Decision',\n",
        " 'App Started Date',\n",
        " 'App Submitted Date',\n",
        " 'Race',\n",
        " 'Hispanic',\n",
        " 'Non-Degree Application Cultural Identity',\n",
        " 'Non-Degree Application Cultural Identity Other',\n",
        " 'Sex',\n",
        " 'Gender Identity',\n",
        " 'Gender Identity Description',\n",
        " 'Non-Degree Application Family Income Range',\n",
        " 'Non-Degree Application Parent College Education',\n",
        " 'Permanent City',\n",
        " 'Permanent County',\n",
        " 'Permanent Region',\n",
        " 'Permanent Postal',\n",
        " 'Permanent Country',\n",
        " 'Emergency Contact Type 1',\n",
        " 'Emergency Contact Type 2',\n",
        " 'Non-Degree Application Current Grade Level',\n",
        " 'School 1 Institution Name',\n",
        " 'School 1 Code - CEEB or Key',\n",
        " 'School 1 GPA',\n",
        " 'Non-Degree Application GPA in Specified Subjects',\n",
        " 'Area of Interest #1',\n",
        " 'Area of Interest #2',\n",
        " 'Area of Interest #3',\n",
        " 'NYU Program or Course Participation Selection',\n",
        " 'Non-Degree Application Prior NYU Application',\n",
        " 'Non-NYU Stem Participation',\n",
        " 'All Missing Checklist Items (comma)',]\n",
        "\n",
        "mapper = {}\n",
        "for n in df.columns:\n",
        "  new_n = re.sub(' ', '_', n.strip())\n",
        "  new_n = re.sub('[^A-Za-z0-9_]+', '', new_n).lower()\n",
        "  if n in orig_col_names:\n",
        "    mapper[str(n)] = f'orig_{new_n}'\n",
        "df.rename(columns=mapper, inplace=True)\n",
        "\n",
        "df.info(verbose=True, show_counts=True)"
      ]
    },
    {
      "cell_type": "code",
      "execution_count": 69,
      "metadata": {
        "id": "DOR7WOtHBlQz"
      },
      "outputs": [],
      "source": [
        "import datetime\n",
        "\n",
        "_output_path = os.path.join(project_directory_path, \"data/{}_did_processed_data_2021.csv\".format(datetime.date.today()))\n",
        "_output_path\n",
        "df.to_csv(_output_path,index=False)"
      ]
    }
  ],
  "metadata": {
    "colab": {
      "collapsed_sections": [],
      "name": "2022-05-11_did_data_processing_2021.ipynb",
      "provenance": [],
      "include_colab_link": true
    },
    "kernelspec": {
      "display_name": "Python 3",
      "language": "python",
      "name": "python3"
    },
    "language_info": {
      "codemirror_mode": {
        "name": "ipython",
        "version": 3
      },
      "file_extension": ".py",
      "mimetype": "text/x-python",
      "name": "python",
      "nbconvert_exporter": "python",
      "pygments_lexer": "ipython3",
      "version": "3.8.5"
    }
  },
  "nbformat": 4,
  "nbformat_minor": 0
}